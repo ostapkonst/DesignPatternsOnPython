{
 "cells": [
  {
   "cell_type": "markdown",
   "metadata": {},
   "source": [
    "# Фабрика (factory)\n",
    "\n",
    "Фабрика — это порождающий паттерн проектирования, который используется для создания конкретных реализаций общего интерфейса.\n"
   ]
  },
  {
   "cell_type": "markdown",
   "metadata": {},
   "source": [
    "## Пример\n",
    "\n",
    "Автоматизируем ветеринарную клинику. Котов и собак лечим разными способами. Для этого создаем классы животных (`Cat` и `Dog`) с методом `sound`, который возвращает звук издаваемый здоровым животным.\n"
   ]
  },
  {
   "cell_type": "markdown",
   "metadata": {},
   "source": [
    "### Проблема\n",
    "\n",
    "**Наивная реализация.** В зависимости от параметра `type_of_animal` функции `get_animal`, хотим получить определенное животное (`Cat` или `Dog`).\n"
   ]
  },
  {
   "cell_type": "code",
   "execution_count": 2,
   "metadata": {},
   "outputs": [],
   "source": [
    "class Cat:\n",
    "    def sound(self) -> str:\n",
    "        return \"Мяу\"\n",
    "\n",
    "\n",
    "class Dog:\n",
    "    def sound(self) -> str:\n",
    "        return \"Гав\""
   ]
  },
  {
   "cell_type": "code",
   "execution_count": 3,
   "metadata": {},
   "outputs": [
    {
     "name": "stdout",
     "output_type": "stream",
     "text": [
      "Звук здорового животного: Мяу\n",
      "Звук здорового животного: Гав\n"
     ]
    }
   ],
   "source": [
    "def get_animal(type_of_animal: str) -> object:\n",
    "    \"\"\"\n",
    "    При добавлении нового класса, нужно будет модифицировать существующий код.\n",
    "    Разработчикам нужно помнить все подобные места... такой код сложно поддерживать.\n",
    "    \"\"\"\n",
    "\n",
    "    if type_of_animal == \"Cat\":\n",
    "        return Cat()\n",
    "    elif type_of_animal == \"Dog\":\n",
    "        return Dog()\n",
    "    else:\n",
    "        raise NotImplementedError()\n",
    "\n",
    "\n",
    "for selected_type in \"Cat\", \"Dog\":\n",
    "    animal = get_animal(selected_type)\n",
    "    print(\"Звук здорового животного:\", animal.sound())"
   ]
  },
  {
   "cell_type": "markdown",
   "metadata": {},
   "source": [
    "### Решение\n",
    "\n",
    "Добавляем абстрактный класс `AbsAnimal`, который предоставляет интерфейс животного. Классы `Cat` и `Dog` реализуют этот интерфейс. Получение объекта производится через метод `create_instance` фабричного класса `AnimalFactory`.\n"
   ]
  },
  {
   "cell_type": "code",
   "execution_count": 4,
   "metadata": {},
   "outputs": [],
   "source": [
    "import abc\n",
    "\n",
    "\n",
    "class AbsAnimal(abc.ABC):\n",
    "    \"\"\"\n",
    "    Для добавления нового класса, достаточно отнаследоваться от этого абстрактного класса.\n",
    "    \"\"\"\n",
    "\n",
    "    @abc.abstractmethod\n",
    "    def sound(self) -> str:\n",
    "        ...\n",
    "\n",
    "\n",
    "class Cat(AbsAnimal):\n",
    "    def sound(self) -> str:\n",
    "        return \"Мяу\"\n",
    "\n",
    "\n",
    "class Dog(AbsAnimal):\n",
    "    def sound(self) -> str:\n",
    "        return \"Гав\""
   ]
  },
  {
   "cell_type": "code",
   "execution_count": 5,
   "metadata": {},
   "outputs": [],
   "source": [
    "from typing import List, Type\n",
    "\n",
    "\n",
    "class AnimalFactory:\n",
    "    animals = (\n",
    "        {}\n",
    "    )  # После инициализации {'Cat': <class '__main__.Cat'>, 'Dog': <class '__main__.Dog'>}\n",
    "\n",
    "    def __init__(self) -> None:\n",
    "        self.load_animals()\n",
    "\n",
    "    def get_all_subclasses(self, python_class: Type[object]) -> List[Type[object]]:\n",
    "        \"\"\"\n",
    "        Метод возвращает все подклассы конкретного класса\n",
    "        \"\"\"\n",
    "        python_class.__subclasses__()\n",
    "\n",
    "        subclasses = set()\n",
    "        check_these = [python_class]\n",
    "\n",
    "        while check_these:\n",
    "            parent = check_these.pop()\n",
    "            for child in parent.__subclasses__():\n",
    "                if child not in subclasses:\n",
    "                    subclasses.add(child)\n",
    "                    check_these.append(child)\n",
    "\n",
    "        return list(subclasses)\n",
    "\n",
    "    def load_animals(self) -> None:\n",
    "        \"\"\"\n",
    "        Метод собирает все реализации `AbsAnimal` и сохраняет их в `self.animals`.\n",
    "        \"\"\"\n",
    "        classes = self.get_all_subclasses(AbsAnimal)\n",
    "        for selected_class in classes:\n",
    "            self.animals.update({selected_class.__name__: selected_class})\n",
    "\n",
    "    def create_instance(self, type_of_animal: str) -> AbsAnimal:\n",
    "        \"\"\"\n",
    "        Метод возвращает объект типа `type_of_animal`.\n",
    "        \"\"\"\n",
    "        if type_of_animal in self.animals:\n",
    "            return self.animals[type_of_animal]()\n",
    "        raise NotImplementedError()"
   ]
  },
  {
   "cell_type": "code",
   "execution_count": 6,
   "metadata": {},
   "outputs": [
    {
     "name": "stdout",
     "output_type": "stream",
     "text": [
      "Звук здорового животного: Мяу\n",
      "Звук здорового животного: Гав\n"
     ]
    }
   ],
   "source": [
    "factory = AnimalFactory()\n",
    "\n",
    "for selected_type in \"Cat\", \"Dog\":\n",
    "    animal = factory.create_instance(selected_type)\n",
    "    print(\"Звук здорового животного:\", animal.sound())"
   ]
  }
 ],
 "metadata": {
  "kernelspec": {
   "display_name": "dev",
   "language": "python",
   "name": "python3"
  },
  "language_info": {
   "codemirror_mode": {
    "name": "ipython",
    "version": 3
   },
   "file_extension": ".py",
   "mimetype": "text/x-python",
   "name": "python",
   "nbconvert_exporter": "python",
   "pygments_lexer": "ipython3",
   "version": "3.10.9"
  }
 },
 "nbformat": 4,
 "nbformat_minor": 2
}
