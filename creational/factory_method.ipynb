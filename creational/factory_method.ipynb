{
 "cells": [
  {
   "cell_type": "markdown",
   "metadata": {},
   "source": [
    "# Фабричный метод (factory method)\n",
    "\n",
    "Фабричный метод — это порождающий паттерн проектирования, который определяет общий интерфейс для создания объектов в суперклассе, позволяя подклассам изменять тип создаваемых объектов.\n"
   ]
  },
  {
   "cell_type": "markdown",
   "metadata": {},
   "source": [
    "## Пример\n",
    "\n",
    "Автоматизируем ветеринарную клинику. Котов и собак лечим разными способами. Для этого создаем классы животных (`Cat` и `Dog`) с методом `sound`, который возвращает звук издаваемый здоровым животным.\n"
   ]
  },
  {
   "cell_type": "markdown",
   "metadata": {},
   "source": [
    "### Проблема\n",
    "\n",
    "**Наивная реализация.** В зависимости от параметра `type_of_animal` функции `get_animal`, хотим получить определенное животное (`Cat` или `Dog`).\n"
   ]
  },
  {
   "cell_type": "code",
   "execution_count": 2,
   "metadata": {},
   "outputs": [],
   "source": [
    "class Cat:\n",
    "    def sound(self) -> str:\n",
    "        return \"Мяу\"\n",
    "\n",
    "\n",
    "class Dog:\n",
    "    def sound(self) -> str:\n",
    "        return \"Гав\""
   ]
  },
  {
   "cell_type": "code",
   "execution_count": 3,
   "metadata": {},
   "outputs": [
    {
     "name": "stdout",
     "output_type": "stream",
     "text": [
      "Звук здорового животного: Мяу\n",
      "Звук здорового животного: Гав\n"
     ]
    }
   ],
   "source": [
    "def get_animal(type_of_animal: str) -> object:\n",
    "    \"\"\"\n",
    "    При добавлении нового класса, нужно будет модифицировать существующий код.\n",
    "    Разработчикам нужно помнить все подобные места... такой код сложно поддерживать.\n",
    "    \"\"\"\n",
    "\n",
    "    if type_of_animal == \"Cat\":\n",
    "        return Cat()\n",
    "    elif type_of_animal == \"Dog\":\n",
    "        return Dog()\n",
    "    else:\n",
    "        raise NotImplementedError()\n",
    "\n",
    "\n",
    "for selected_type in \"Cat\", \"Dog\":\n",
    "    animal = get_animal(selected_type)\n",
    "    print(\"Звук здорового животного:\", animal.sound())"
   ]
  },
  {
   "cell_type": "markdown",
   "metadata": {},
   "source": [
    "### Решение\n",
    "\n",
    "Добавляем абстрактный класс `AbsAnimal`, который предоставляет интерфейс животного. Классы `Cat` и `Dog` реализуют этот интерфейс. Получение объекта производится через методы `create_instance` фабрик `CatFactory` и `DogFactory`.\n"
   ]
  },
  {
   "cell_type": "code",
   "execution_count": 3,
   "metadata": {},
   "outputs": [],
   "source": [
    "import abc\n",
    "\n",
    "\n",
    "class AbsAnimal(abc.ABC):\n",
    "    \"\"\"\n",
    "    Для добавления нового класса, достаточно отнаследоваться от этого абстрактного класса.\n",
    "    \"\"\"\n",
    "\n",
    "    @abc.abstractmethod\n",
    "    def sound(self) -> str:\n",
    "        ...\n",
    "\n",
    "\n",
    "class Cat(AbsAnimal):\n",
    "    def sound(self) -> str:\n",
    "        return \"Мяу\"\n",
    "\n",
    "\n",
    "class Dog(AbsAnimal):\n",
    "    def sound(self) -> str:\n",
    "        return \"Гав\""
   ]
  },
  {
   "cell_type": "code",
   "execution_count": 4,
   "metadata": {},
   "outputs": [],
   "source": [
    "class AnimalFactory(abc.ABC):\n",
    "    \"\"\"\n",
    "    Интерфейс фабрики может вернуть любой экземпляр `AbsAnimal`.\n",
    "    \"\"\"\n",
    "\n",
    "    @abc.abstractmethod\n",
    "    def create_instance(self) -> AbsAnimal:\n",
    "        ...\n",
    "\n",
    "\n",
    "class CatFactory(AnimalFactory):\n",
    "    def create_instance(self) -> Cat:\n",
    "        return Cat()\n",
    "\n",
    "\n",
    "class DogFactory(AnimalFactory):\n",
    "    def create_instance(self) -> Dog:\n",
    "        return Dog()"
   ]
  },
  {
   "cell_type": "code",
   "execution_count": 5,
   "metadata": {},
   "outputs": [
    {
     "name": "stdout",
     "output_type": "stream",
     "text": [
      "Звук здорового животного: Мяу\n",
      "Звук здорового животного: Гав\n"
     ]
    }
   ],
   "source": [
    "cat_factory = CatFactory()\n",
    "dog_factory = DogFactory()\n",
    "\n",
    "for factory in cat_factory, dog_factory:\n",
    "    animal = factory.create_instance()\n",
    "    print(\"Звук здорового животного:\", animal.sound())"
   ]
  }
 ],
 "metadata": {
  "kernelspec": {
   "display_name": "dev",
   "language": "python",
   "name": "python3"
  },
  "language_info": {
   "codemirror_mode": {
    "name": "ipython",
    "version": 3
   },
   "file_extension": ".py",
   "mimetype": "text/x-python",
   "name": "python",
   "nbconvert_exporter": "python",
   "pygments_lexer": "ipython3",
   "version": "3.10.9"
  }
 },
 "nbformat": 4,
 "nbformat_minor": 2
}
