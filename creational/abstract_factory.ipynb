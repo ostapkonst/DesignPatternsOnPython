{
 "cells": [
  {
   "cell_type": "markdown",
   "metadata": {},
   "source": [
    "# Абстрактная фабрика (abstract factory)\n",
    "\n",
    "Абстрактная фабрика — это порождающий паттерн проектирования, который позволяет создавать семейства связанных объектов, не привязываясь к конкретным классам создаваемых объектов.\n"
   ]
  },
  {
   "cell_type": "markdown",
   "metadata": {},
   "source": [
    "## Пример\n",
    "\n",
    "Автоматизируем ветеринарную клинику. Появились новые клиенты из Англии. Для них звуки, издаваемые здоровыми животными будут отличаться. В приложение требуется внедрить русификацию.\n"
   ]
  },
  {
   "cell_type": "markdown",
   "metadata": {},
   "source": [
    "### Проблема\n",
    "\n",
    "**Наивная реализация.** У нас получилось 4 варианта сочетания язык-тип животного.\n"
   ]
  },
  {
   "cell_type": "code",
   "execution_count": 2,
   "metadata": {},
   "outputs": [],
   "source": [
    "class RussianCat:\n",
    "    def sound(self) -> str:\n",
    "        return \"Мяу\"\n",
    "\n",
    "\n",
    "class RussianDog:\n",
    "    def sound(self) -> str:\n",
    "        return \"Гав\"\n",
    "\n",
    "\n",
    "class EnglishCat:\n",
    "    def sound(self) -> str:\n",
    "        return \"Meow\"\n",
    "\n",
    "\n",
    "class EnglishDog:\n",
    "    def sound(self) -> str:\n",
    "        return \"Woof\""
   ]
  },
  {
   "cell_type": "code",
   "execution_count": 4,
   "metadata": {},
   "outputs": [
    {
     "name": "stdout",
     "output_type": "stream",
     "text": [
      "Звук здорового животного: Woof\n"
     ]
    }
   ],
   "source": [
    "def get_animal_by_type_and_language(language: str, type_of_animal: str) -> object:\n",
    "    \"\"\"\n",
    "    Нужно менять этот код каждый раз при добавлении нового языка или типа животного\n",
    "    Такой код быстро превратится в лапшу\n",
    "    \"\"\"\n",
    "    if language == \"ru\":\n",
    "        if type_of_animal == \"Dog\":\n",
    "            return RussianDog()\n",
    "        elif type_of_animal == \"Cat\":\n",
    "            return RussianCat()\n",
    "        else:\n",
    "            NotImplementedError()\n",
    "    elif language == \"en\":\n",
    "        if type_of_animal == \"Dog\":\n",
    "            return EnglishDog()\n",
    "        elif type_of_animal == \"Cat\":\n",
    "            return EnglishCat()\n",
    "        else:\n",
    "            NotImplementedError()\n",
    "    else:\n",
    "        raise NotADirectoryError()\n",
    "\n",
    "\n",
    "language = \"en\"  # or \"en\"\n",
    "type_of_animal = \"Dog\"  # or \"Cat\"\n",
    "\n",
    "animal = get_animal_by_type_and_language(language, type_of_animal)\n",
    "print(\"Звук здорового животного:\", animal.sound())"
   ]
  },
  {
   "cell_type": "markdown",
   "metadata": {},
   "source": [
    "### Решение\n",
    "\n",
    "Создадим абстрактный класс `AbsFactory` с методами `create_dog` и `create_cat`. Реализуем классы фабрик `EnglishFactory` и `RussianFactory`. Каждая фабрика при вызове методов `create_...`, — возвращает конкретный объект.\n"
   ]
  },
  {
   "cell_type": "code",
   "execution_count": 6,
   "metadata": {},
   "outputs": [],
   "source": [
    "import abc\n",
    "\n",
    "\n",
    "class AbsAnimal(abc.ABC):\n",
    "    @abc.abstractmethod\n",
    "    def sound(self) -> str:\n",
    "        ...\n",
    "\n",
    "\n",
    "class RussianCat(AbsAnimal):\n",
    "    def sound(self) -> str:\n",
    "        return \"Мяу\"\n",
    "\n",
    "\n",
    "class RussianDog(AbsAnimal):\n",
    "    def sound(self) -> str:\n",
    "        return \"Гав\"\n",
    "\n",
    "\n",
    "class EnglishCat(AbsAnimal):\n",
    "    def sound(self) -> str:\n",
    "        return \"Meow\"\n",
    "\n",
    "\n",
    "class EnglishDog(AbsAnimal):\n",
    "    def sound(self) -> str:\n",
    "        return \"Woof\""
   ]
  },
  {
   "cell_type": "code",
   "execution_count": 7,
   "metadata": {},
   "outputs": [],
   "source": [
    "class AbsFactory(abc.ABC):\n",
    "    \"\"\"\n",
    "    За место ифов, используем наследование и полиморфизм\n",
    "    \"\"\"\n",
    "\n",
    "    @abc.abstractstaticmethod\n",
    "    def create_dog() -> AbsAnimal:\n",
    "        ...\n",
    "\n",
    "    @abc.abstractstaticmethod\n",
    "    def create_cat() -> AbsAnimal:\n",
    "        ...\n",
    "\n",
    "\n",
    "class EnglishFactory(AbsFactory):\n",
    "    \"\"\"\n",
    "    Позволяет порождать англифицированных животных\n",
    "    \"\"\"\n",
    "\n",
    "    @abc.abstractstaticmethod\n",
    "    def create_dog() -> EnglishDog:\n",
    "        return EnglishDog()\n",
    "\n",
    "    @abc.abstractstaticmethod\n",
    "    def create_cat() -> EnglishCat:\n",
    "        return EnglishCat()\n",
    "\n",
    "\n",
    "class RussianFactory(AbsFactory):\n",
    "    \"\"\"\n",
    "    Позволяет порождать руссифицированных животных\n",
    "    \"\"\"\n",
    "\n",
    "    @abc.abstractstaticmethod\n",
    "    def create_dog() -> RussianDog:\n",
    "        return RussianDog()\n",
    "\n",
    "    @abc.abstractstaticmethod\n",
    "    def create_cat() -> RussianCat:\n",
    "        return RussianCat()"
   ]
  },
  {
   "cell_type": "code",
   "execution_count": 8,
   "metadata": {},
   "outputs": [
    {
     "name": "stdout",
     "output_type": "stream",
     "text": [
      "Звук здорового животного: Woof\n"
     ]
    }
   ],
   "source": [
    "factory = EnglishFactory\n",
    "animal = factory.create_dog()\n",
    "print(\"Звук здорового животного:\", animal.sound())"
   ]
  }
 ],
 "metadata": {
  "kernelspec": {
   "display_name": "dev",
   "language": "python",
   "name": "python3"
  },
  "language_info": {
   "codemirror_mode": {
    "name": "ipython",
    "version": 3
   },
   "file_extension": ".py",
   "mimetype": "text/x-python",
   "name": "python",
   "nbconvert_exporter": "python",
   "pygments_lexer": "ipython3",
   "version": "3.10.9"
  }
 },
 "nbformat": 4,
 "nbformat_minor": 2
}
