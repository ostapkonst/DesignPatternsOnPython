{
 "cells": [
  {
   "cell_type": "markdown",
   "metadata": {},
   "source": [
    "# Builder (строитель)\n",
    "\n",
    "Строитель — это порождающий паттерн проектирования, который позволяет создавать сложные объекты пошагово. Строитель даёт возможность использовать один и тот же\n",
    "код строительства для получения разных представлений объектов.\n"
   ]
  },
  {
   "cell_type": "markdown",
   "metadata": {},
   "source": [
    "## Пример\n",
    "\n",
    "Автоматизируем процесс продажи \"сборок\", т. е. уже собранных компьютеров. Для сборки компьютера, нужно установить комплектующие в правильном порядке. Комплектующих может быть много.\n"
   ]
  },
  {
   "cell_type": "markdown",
   "metadata": {},
   "source": [
    "### Проблема\n",
    "\n",
    "**Наивная реализация.** Создаем класс `Computer` и заполняем значения через атрибуты. В комментариях описаны возникающие проблемы.\n"
   ]
  },
  {
   "cell_type": "code",
   "execution_count": 9,
   "metadata": {},
   "outputs": [],
   "source": [
    "class Computer:\n",
    "    cpu: str\n",
    "    memory: str\n",
    "    hard_drive: str\n",
    "    video_card: str\n",
    "\n",
    "\n",
    "# Данному случае ломается инкапсуляция\n",
    "# плюс, мы не можем гарантировать порядок присваивания в других местах, если он нам важен\n",
    "computerA = Computer()\n",
    "computerA.cpu = \"Intel Core i7\"\n",
    "computerA.memory = \"16 GB\"\n",
    "computerA.hard_drive = \"SSD\"\n",
    "computerA.video_card = \"Nvidia\""
   ]
  },
  {
   "cell_type": "markdown",
   "metadata": {},
   "source": [
    "Пробуем задать параметры через конструктор.\n"
   ]
  },
  {
   "cell_type": "code",
   "execution_count": 12,
   "metadata": {},
   "outputs": [],
   "source": [
    "from dataclasses import dataclass\n",
    "\n",
    "# Сгенерируем __init__ через `dataclass`\n",
    "ComputerWithConstructor = dataclass(Computer)\n",
    "\n",
    "# Проблема заключается в том, что параметров может быть очень много\n",
    "ComputerB = ComputerWithConstructor(\n",
    "    cpu=\"Intel Core i7\",\n",
    "    memory=\"16 GB\",\n",
    "    hard_drive=\"SSD\",\n",
    "    video_card=\"Nvidia\",\n",
    ")"
   ]
  },
  {
   "cell_type": "markdown",
   "metadata": {},
   "source": [
    "### Решение\n",
    "\n",
    "Используем отдельные классы, реализующие интерфейс `AbsBuilder` для комплектования конкретных \"сборок\". Дополнительно выделяем класс `Director`, который будет отвечать за правильный порядок сборки компьютеров.\n"
   ]
  },
  {
   "cell_type": "code",
   "execution_count": 18,
   "metadata": {},
   "outputs": [],
   "source": [
    "import abc\n",
    "\n",
    "\n",
    "class Computer:\n",
    "    cpu: str\n",
    "    memory: str\n",
    "    hard_drive: str\n",
    "    video_card: str\n",
    "\n",
    "    def display(self) -> None:\n",
    "        print(\"CPU:        \", self.cpu)\n",
    "        print(\"Memory:     \", self.memory)\n",
    "        print(\"HD:         \", self.hard_drive)\n",
    "        print(\"Video card: \", self.video_card)\n",
    "\n",
    "\n",
    "class AbsBuilder(abc.ABC):\n",
    "    def get_computer(self) -> Computer:\n",
    "        \"\"\"\n",
    "        Возвращает текущий собранный компьютер\n",
    "        \"\"\"\n",
    "        return self._computer\n",
    "\n",
    "    def new_computer(self) -> None:\n",
    "        \"\"\"\n",
    "        Создает заготовку для сборки компьютера\n",
    "        \"\"\"\n",
    "        self._computer = Computer()\n",
    "\n",
    "    @abc.abstractmethod\n",
    "    def install_mainboard(self) -> None:\n",
    "        ...\n",
    "\n",
    "    @abc.abstractmethod\n",
    "    def install_hard_drive(self) -> None:\n",
    "        ...\n",
    "\n",
    "    @abc.abstractmethod\n",
    "    def install_video_card(self) -> None:\n",
    "        ...\n",
    "\n",
    "\n",
    "class IntelComputerBuilder(AbsBuilder):\n",
    "    \"\"\"\n",
    "    Конкретный сборщик\n",
    "    \"\"\"\n",
    "\n",
    "    def install_mainboard(self) -> None:\n",
    "        self._computer.cpu = \"Intel Core i7\"\n",
    "        self._computer.memory = \"16 GB\"\n",
    "\n",
    "    def install_hard_drive(self) -> None:\n",
    "        self._computer.hard_drive = \"SSD\"\n",
    "\n",
    "    def install_video_card(self) -> None:\n",
    "        self._computer.video_card = \"Nvidia\"\n",
    "\n",
    "\n",
    "class AMDComputerBuilder(AbsBuilder):\n",
    "    \"\"\"\n",
    "    Конкретный сборщик\n",
    "    \"\"\"\n",
    "\n",
    "    def install_mainboard(self) -> None:\n",
    "        self._computer.cpu = \"AMD Ryzen 7\"\n",
    "        self._computer.memory = \"32 GB\"\n",
    "\n",
    "    def install_hard_drive(self) -> None:\n",
    "        self._computer.hard_drive = \"HDD\"\n",
    "\n",
    "    def install_video_card(self) -> None:\n",
    "        self._computer.video_card = \"AMD\"\n",
    "\n",
    "\n",
    "class Director:\n",
    "    \"\"\"\n",
    "    Класс знает как правильно собирать компьютер\n",
    "    т. е. владеет знанием о порядке вызовов методов у сборщиков\n",
    "    \"\"\"\n",
    "\n",
    "    def __init__(self, builder: AbsBuilder) -> None:\n",
    "        self._builder = builder\n",
    "\n",
    "    def build_computer(self) -> None:\n",
    "        self._builder.new_computer()\n",
    "        self._builder.install_mainboard()\n",
    "        self._builder.install_hard_drive()\n",
    "        self._builder.install_video_card()\n",
    "\n",
    "    def get_computer(self) -> Computer:\n",
    "        return self._builder.get_computer()"
   ]
  },
  {
   "cell_type": "code",
   "execution_count": 23,
   "metadata": {},
   "outputs": [
    {
     "name": "stdout",
     "output_type": "stream",
     "text": [
      "CPU:         Intel Core i7\n",
      "Memory:      16 GB\n",
      "HD:          SSD\n",
      "Video card:  Nvidia\n",
      "\n",
      "CPU:         AMD Ryzen 7\n",
      "Memory:      32 GB\n",
      "HD:          HDD\n",
      "Video card:  AMD\n"
     ]
    }
   ],
   "source": [
    "# Собираем конфигурацию на Intel\n",
    "intel_builder = Director(IntelComputerBuilder())\n",
    "intel_builder.build_computer()\n",
    "computer = intel_builder.get_computer()\n",
    "computer.display()\n",
    "\n",
    "print()\n",
    "\n",
    "# Собираем конфигурацию на AMD\n",
    "amd_builder = Director(AMDComputerBuilder())\n",
    "amd_builder.build_computer()\n",
    "computer = amd_builder.get_computer()\n",
    "computer.display()"
   ]
  }
 ],
 "metadata": {
  "kernelspec": {
   "display_name": "dev",
   "language": "python",
   "name": "python3"
  },
  "language_info": {
   "codemirror_mode": {
    "name": "ipython",
    "version": 3
   },
   "file_extension": ".py",
   "mimetype": "text/x-python",
   "name": "python",
   "nbconvert_exporter": "python",
   "pygments_lexer": "ipython3",
   "version": "3.10.9"
  }
 },
 "nbformat": 4,
 "nbformat_minor": 2
}
