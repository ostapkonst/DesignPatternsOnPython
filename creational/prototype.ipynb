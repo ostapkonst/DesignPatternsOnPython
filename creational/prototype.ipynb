{
 "cells": [
  {
   "cell_type": "markdown",
   "metadata": {},
   "source": [
    "# Прототип (prototype)\n",
    "\n",
    "Прототип — это порождающий паттерн проектирования, который позволяет копировать объекты, не вдаваясь в подробности их реализации.\n"
   ]
  },
  {
   "cell_type": "markdown",
   "metadata": {},
   "source": [
    "## Пример\n",
    "\n",
    "Автоматизируем магазин по продаже компьютеров. Требуется предоставлять пользователям компьютер в стандартной комплектации, но давать возможность изменять конфигурацию, при этом сохраняя исходную конфигурацию. Т. е. копировать объект перед изменением.\n"
   ]
  },
  {
   "cell_type": "code",
   "execution_count": 29,
   "metadata": {},
   "outputs": [],
   "source": [
    "import abc\n",
    "import copy\n",
    "from typing import Any\n",
    "\n",
    "\n",
    "class AbsPrototype(abc.ABC):\n",
    "    @abc.abstractmethod\n",
    "    def clone(self) -> Any:\n",
    "        ...\n",
    "\n",
    "\n",
    "class PrototypeManager(dict):\n",
    "    \"\"\"\n",
    "    Менеджер позволяет иметь простой доступ к прототипам\n",
    "    \"\"\"\n",
    "\n",
    "    def __setitem__(self, __key, __value) -> None:\n",
    "        # Добавляем проверку для того, чтобы отбрасывать все лишние подклассы\n",
    "        if isinstance(__value, AbsPrototype):\n",
    "            super().__setitem__(__key, __value)\n",
    "\n",
    "\n",
    "class Computer(AbsPrototype):\n",
    "    def __init__(self, cpu, memory, hard_drive, video_card) -> None:\n",
    "        self.cpu = cpu\n",
    "        self.memory = memory\n",
    "        self.hard_drive = hard_drive\n",
    "        self.video_card = video_card\n",
    "\n",
    "    def display(self) -> None:\n",
    "        print(\"CPU:        \", self.cpu)\n",
    "        print(\"Memory:     \", self.memory)\n",
    "        print(\"HD:         \", self.hard_drive)\n",
    "        print(\"Video card: \", self.video_card)\n",
    "\n",
    "    def clone(self) -> Any:\n",
    "        \"\"\"\n",
    "        Возвращает копию текущего объекта\n",
    "        \"\"\"\n",
    "        # Глубокое копирование представлено здесь в качестве примера.\n",
    "        return copy.deepcopy(self)"
   ]
  },
  {
   "cell_type": "code",
   "execution_count": 38,
   "metadata": {},
   "outputs": [
    {
     "name": "stdout",
     "output_type": "stream",
     "text": [
      "::: Source A :::\n",
      "CPU:         Intel\n",
      "Memory:      8GB\n",
      "HD:          SSD\n",
      "Video card:  Nvidia\n",
      "\n",
      "::: New B :::\n",
      "CPU:         Intel\n",
      "Memory:      32GB\n",
      "HD:          SSD\n",
      "Video card:  Nvidia\n",
      "\n",
      "::: Again A :::\n",
      "CPU:         Intel\n",
      "Memory:      8GB\n",
      "HD:          SSD\n",
      "Video card:  Nvidia\n"
     ]
    }
   ],
   "source": [
    "manager = PrototypeManager()\n",
    "\n",
    "print(\"::: Source A :::\")\n",
    "pcA = Computer(\"Intel\", \"8GB\", \"SSD\", \"Nvidia\")\n",
    "pcA.display()\n",
    "\n",
    "print()\n",
    "print(\"::: New B :::\")\n",
    "# Регистрируем в менеджере исходный объект\n",
    "manager[\"A\"] = pcA\n",
    "# Получаем его копию\n",
    "pcB: Computer = manager[\"A\"].clone()\n",
    "# Изменяем копию\n",
    "pcB.memory = \"32GB\"\n",
    "pcB.display()\n",
    "\n",
    "print()\n",
    "print(\"::: Again A :::\")\n",
    "# Исходный объект не изменился\n",
    "pcA.display()"
   ]
  }
 ],
 "metadata": {
  "kernelspec": {
   "display_name": "dev",
   "language": "python",
   "name": "python3"
  },
  "language_info": {
   "codemirror_mode": {
    "name": "ipython",
    "version": 3
   },
   "file_extension": ".py",
   "mimetype": "text/x-python",
   "name": "python",
   "nbconvert_exporter": "python",
   "pygments_lexer": "ipython3",
   "version": "3.10.9"
  }
 },
 "nbformat": 4,
 "nbformat_minor": 2
}
