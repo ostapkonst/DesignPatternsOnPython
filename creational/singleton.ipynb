{
 "cells": [
  {
   "cell_type": "markdown",
   "metadata": {},
   "source": [
    "# Singleton (одиночка)\n",
    "\n",
    "Одиночка — это порождающий паттерн проектирования, который гарантирует, что у класса есть только один экземпляр, и предоставляет к нему глобальную точку доступа."
   ]
  },
  {
   "cell_type": "markdown",
   "metadata": {},
   "source": [
    "## Пример\n",
    "\n",
    "Требуется подключиться к БД из разных мест кода. Для того, чтобы не создавать каждый раз новое соединение, можем применить данный паттерн. Даже при множественном вызове `Connection()`, — объект будет создан лишь единожды (в момент первого вызова)."
   ]
  },
  {
   "cell_type": "code",
   "execution_count": 35,
   "metadata": {},
   "outputs": [],
   "source": [
    "from typing import Any\n",
    "\n",
    "\n",
    "class Singleton:\n",
    "    \"\"\"\n",
    "    Создаем базовый класс, который переопределяет метод создания объекта\n",
    "    \"\"\"\n",
    "\n",
    "    _instance = None\n",
    "\n",
    "    def __new__(cls, *args, **kwargs) -> Any:\n",
    "        # Объект создается единожды\n",
    "        if not cls._instance:\n",
    "            cls._instance = super().__new__(cls, *args, **kwargs)\n",
    "        return cls._instance"
   ]
  },
  {
   "cell_type": "code",
   "execution_count": 36,
   "metadata": {},
   "outputs": [
    {
     "name": "stdout",
     "output_type": "stream",
     "text": [
      "Current Connection:  0.6763491779617328\n",
      "Current Connection:  0.6763491779617328\n"
     ]
    }
   ],
   "source": [
    "from random import random\n",
    "\n",
    "\n",
    "class Connection(Singleton):\n",
    "    uniq_id = None\n",
    "\n",
    "    def __init__(self) -> None:\n",
    "        # Проверка нужна для того, чтобы не генерить лишний раз `id`\n",
    "        if self.uniq_id is None:\n",
    "            self.uniq_id = random()\n",
    "\n",
    "    def print_id(self) -> None:\n",
    "        \"\"\"\n",
    "        Печатаем текущий идентификатор соединения с базой\n",
    "        \"\"\"\n",
    "        print(\"Current Connection: \", self.uniq_id)\n",
    "\n",
    "\n",
    "a = Connection()\n",
    "a.print_id()\n",
    "\n",
    "b = Connection()\n",
    "b.print_id()\n",
    "\n",
    "assert a is b  # Это один и тот же объект"
   ]
  }
 ],
 "metadata": {
  "kernelspec": {
   "display_name": "dev",
   "language": "python",
   "name": "python3"
  },
  "language_info": {
   "codemirror_mode": {
    "name": "ipython",
    "version": 3
   },
   "file_extension": ".py",
   "mimetype": "text/x-python",
   "name": "python",
   "nbconvert_exporter": "python",
   "pygments_lexer": "ipython3",
   "version": "3.10.9"
  }
 },
 "nbformat": 4,
 "nbformat_minor": 2
}
