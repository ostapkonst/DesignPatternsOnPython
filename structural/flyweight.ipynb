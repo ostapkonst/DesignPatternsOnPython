{
 "cells": [
  {
   "cell_type": "markdown",
   "metadata": {},
   "source": [
    "# Легковес (flyweight)\n",
    "\n",
    "Легковес — это структурный паттерн проектирования, который позволяет вместить большее количество объектов в отведённую оперативную память. Легковес экономит память,  разделяя общее состояние объектов между собой, вместо хранения одинаковых данных в каждом объекте."
   ]
  },
  {
   "cell_type": "markdown",
   "metadata": {},
   "source": [
    "## Пример\n",
    "\n",
    "Реализовывая игру про лесных эльфов, вам потребовалось создать карту с тысячами деревьев. Разные виды деревьев отображаются по-разному. Из-за размеров леса требуется оптимизировать хранение деревьев по ОЗУ."
   ]
  },
  {
   "cell_type": "code",
   "execution_count": 7,
   "metadata": {},
   "outputs": [],
   "source": [
    "from typing import Dict, Tuple\n",
    "from dataclasses import dataclass\n",
    "\n",
    "\n",
    "@dataclass\n",
    "class FlyweightTreeType:\n",
    "    \"\"\"\n",
    "    Класс легковеса. В данной реализации, хранит только внутренне состояние.\n",
    "    \"\"\"\n",
    "\n",
    "    name: str\n",
    "    color: str\n",
    "    texture: str\n",
    "\n",
    "\n",
    "class FlyweightFactory:\n",
    "    \"\"\"\n",
    "    Паттерна \"Фабрика\" используется тут для хранения, получения и создания уникальных легковесов.\n",
    "    \"\"\"\n",
    "\n",
    "    flyweights: Dict[str, FlyweightTreeType]\n",
    "\n",
    "    def __init__(self) -> None:\n",
    "        self.flyweights = {}\n",
    "\n",
    "    def get_key(self, *args) -> str:\n",
    "        return \"_\".join(args)\n",
    "\n",
    "    def get_tree_type(self, *args) -> FlyweightTreeType:\n",
    "        \"\"\"\n",
    "        Возвращает существующий легковес с заданным состоянием или создает новый.\n",
    "        \"\"\"\n",
    "\n",
    "        key = self.get_key(*args)\n",
    "\n",
    "        if not self.flyweights.get(key):\n",
    "            self.flyweights[key] = FlyweightTreeType(*args)\n",
    "\n",
    "        return self.flyweights[key]\n",
    "\n",
    "\n",
    "class Tree:\n",
    "    def __init__(\n",
    "        self,\n",
    "        position_on_map: Tuple[int, int],\n",
    "        tree_type: FlyweightTreeType,\n",
    "    ) -> None:\n",
    "        self.position_on_map = position_on_map\n",
    "        self.tree_type = tree_type\n",
    "\n",
    "    def draw() -> None:\n",
    "        \"\"\"\n",
    "        Дерево знает как себя отрисовать на карте.\n",
    "        \"\"\"\n",
    "        pass\n",
    "    \n",
    "    def profiler(self) -> None:\n",
    "        print(f\"self_id     : {id(self)}\")\n",
    "        print(f\"tree_type_id: {id(self.tree_type)}\")"
   ]
  },
  {
   "cell_type": "code",
   "execution_count": 16,
   "metadata": {},
   "outputs": [
    {
     "name": "stdout",
     "output_type": "stream",
     "text": [
      "\n",
      "self_id     : 140449257901696\n",
      "tree_type_id: 140449257902320\n",
      "\n",
      "self_id     : 140449257903520\n",
      "tree_type_id: 140449257902320\n",
      "\n",
      "self_id     : 140449257905104\n",
      "tree_type_id: 140449257901744\n"
     ]
    }
   ],
   "source": [
    "tree_type_creator = FlyweightFactory()\n",
    "\n",
    "first_type = (\"ель\", \"зеленая\", \"матовая\")\n",
    "second_type = (\"береза\", \"белая\", \"прозрачная\")\n",
    "\n",
    "# Создадим 3 дерева: 2 ели и одну березу\n",
    "\n",
    "uniq_tree_1 = Tree((32, 65), tree_type_creator.get_tree_type(*first_type))\n",
    "print()\n",
    "uniq_tree_1.profiler()\n",
    "\n",
    "uniq_tree_2 = Tree((32, 65), tree_type_creator.get_tree_type(*first_type))\n",
    "print()\n",
    "uniq_tree_2.profiler()\n",
    "\n",
    "uniq_tree_3 = Tree((32, 65), tree_type_creator.get_tree_type(*second_type))\n",
    "print()\n",
    "uniq_tree_3.profiler()\n",
    "\n",
    "# Обратите внимание, что `tree_type_id` у первых двух деревьев совпадает\n",
    "# это по тому, что они ссылаются на один и тот же объект в памяти"
   ]
  }
 ],
 "metadata": {
  "kernelspec": {
   "display_name": "dev",
   "language": "python",
   "name": "python3"
  },
  "language_info": {
   "codemirror_mode": {
    "name": "ipython",
    "version": 3
   },
   "file_extension": ".py",
   "mimetype": "text/x-python",
   "name": "python",
   "nbconvert_exporter": "python",
   "pygments_lexer": "ipython3",
   "version": "3.10.9"
  }
 },
 "nbformat": 4,
 "nbformat_minor": 2
}
