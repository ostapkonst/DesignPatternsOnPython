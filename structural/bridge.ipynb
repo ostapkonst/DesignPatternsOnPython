{
 "cells": [
  {
   "cell_type": "markdown",
   "metadata": {},
   "source": [
    "# Мост (bridge)\n",
    "\n",
    "Мост — это структурный паттерн проектирования, который разделяет один или несколько классов на две отдельные иерархии — абстракцию и реализацию, позволяя изменять их независимо друг от друга.\n"
   ]
  },
  {
   "cell_type": "markdown",
   "metadata": {},
   "source": [
    "## Пример\n",
    "\n",
    "Автоматизируем продажу смартфонов. Итоговая цена смартфона зависит от страны производителя (Индия, Китай), сезонности (допустим, летом продаются лучше). Для демонстрации, будут использованы 2 модели смартфонов от DNS и Samsung.\n"
   ]
  },
  {
   "cell_type": "markdown",
   "metadata": {},
   "source": [
    "### Проблема\n",
    "\n",
    "**Наивная реализация.** Генерируем отдельный класс, для каждого сочетания: модель смартфона, производитель, сезонность. Получили 8 классов (2 _ 2 _ 2). При добавлении всего одного производителя, получим 12 классов (2 _ 3 _ 2).\n"
   ]
  },
  {
   "cell_type": "code",
   "execution_count": 7,
   "metadata": {},
   "outputs": [],
   "source": [
    "import abc\n",
    "\n",
    "\n",
    "class AbsSmartphone(abc.ABC):\n",
    "    @abc.abstractmethod\n",
    "    def calc_price(self) -> float:\n",
    "        \"\"\"\n",
    "        В дальнейших реализациях я захардкодил конкретные значения,\n",
    "        но в боевых проектах, там может находиться сложная логика\n",
    "        \"\"\"\n",
    "        ...\n",
    "\n",
    "\n",
    "class IndiaSummerDNS(AbsSmartphone):\n",
    "    def calc_price(self) -> float:\n",
    "        return 1.0 * 0.9 * 7_000\n",
    "\n",
    "\n",
    "class IndiaSummerSamsung(AbsSmartphone):\n",
    "    def calc_price(self) -> float:\n",
    "        return 1.0 * 0.9 * 13_000\n",
    "\n",
    "\n",
    "class IndiaWinterDNS(AbsSmartphone):\n",
    "    def calc_price(self) -> float:\n",
    "        return 1.0 * 1.0 * 7_000\n",
    "\n",
    "\n",
    "class IndiaWinterSamsung(AbsSmartphone):\n",
    "    def calc_price(self) -> float:\n",
    "        return 1.0 * 1.0 * 13_000\n",
    "\n",
    "\n",
    "class ChinaSummerDNS(AbsSmartphone):\n",
    "    def calc_price(self) -> float:\n",
    "        return 0.8 * 0.9 * 7_000\n",
    "\n",
    "\n",
    "class ChinaSummerSamsung(AbsSmartphone):\n",
    "    def calc_price(self) -> float:\n",
    "        return 0.8 * 0.9 * 13_000\n",
    "\n",
    "\n",
    "class ChinaWinterDNS(AbsSmartphone):\n",
    "    def calc_price(self) -> float:\n",
    "        return 0.8 * 1.0 * 7_000\n",
    "\n",
    "\n",
    "class ChinaWinterSamsung(AbsSmartphone):\n",
    "    def calc_price(self) -> float:\n",
    "        return 0.8 * 1.0 * 13_000"
   ]
  },
  {
   "cell_type": "code",
   "execution_count": 20,
   "metadata": {},
   "outputs": [
    {
     "name": "stdout",
     "output_type": "stream",
     "text": [
      "Цена при покупке SAMSUNG из Индии летом: 11700.0\n"
     ]
    }
   ],
   "source": [
    "smartphone = IndiaSummerSamsung()\n",
    "\n",
    "print(\"Цена при покупке SAMSUNG из Индии летом:\", smartphone.calc_price())"
   ]
  },
  {
   "cell_type": "markdown",
   "metadata": {},
   "source": [
    "### Решение\n",
    "\n",
    "Поборемся с ростом подклассов с помощью выделения абстракций. Т. е. вместо наследования, будем использовать композицию с передачей объектов через инициализатор.\n"
   ]
  },
  {
   "cell_type": "code",
   "execution_count": 16,
   "metadata": {},
   "outputs": [],
   "source": [
    "import abc\n",
    "\n",
    "\n",
    "class AbsCoefficient(abc.ABC):\n",
    "    @abc.abstractproperty\n",
    "    def coefficient(self) -> float:\n",
    "        return 0.9\n",
    "\n",
    "\n",
    "class AbsManufactureCoefficient(AbsCoefficient):\n",
    "    \"\"\"\n",
    "    Абстракция страны производителя\n",
    "    \"\"\"\n",
    "\n",
    "    ...\n",
    "\n",
    "\n",
    "class ChinaCoefficient(AbsManufactureCoefficient):\n",
    "    @property\n",
    "    def coefficient(self) -> float:\n",
    "        return 0.8\n",
    "\n",
    "\n",
    "class IndiaCoefficient(AbsManufactureCoefficient):\n",
    "    @property\n",
    "    def coefficient(self) -> float:\n",
    "        return 1.0\n",
    "\n",
    "\n",
    "class AbsSeasonalityCoefficient(AbsCoefficient):\n",
    "    \"\"\"\n",
    "    Абстракция сезонности (сезон высоких/низких продаж)\n",
    "    \"\"\"\n",
    "\n",
    "    ...\n",
    "\n",
    "\n",
    "class SummerCoefficient(AbsSeasonalityCoefficient):\n",
    "    @property\n",
    "    def coefficient(self) -> float:\n",
    "        return 0.9\n",
    "\n",
    "\n",
    "class WinterCoefficient(AbsSeasonalityCoefficient):\n",
    "    @property\n",
    "    def coefficient(self) -> float:\n",
    "        return 1.0"
   ]
  },
  {
   "cell_type": "code",
   "execution_count": 17,
   "metadata": {},
   "outputs": [],
   "source": [
    "class AbsSmartphone(abc.ABC):\n",
    "    @abc.abstractmethod\n",
    "    def calc_price(self) -> float:\n",
    "        ...\n",
    "\n",
    "    def __init__(\n",
    "        self,\n",
    "        base_price: float,\n",
    "        market: AbsManufactureCoefficient,\n",
    "        seasonality: AbsSeasonalityCoefficient,\n",
    "    ) -> None:\n",
    "        \"\"\"\n",
    "        Вместо наследования, используем композицию.\n",
    "        \"\"\"\n",
    "        self.base_price = base_price\n",
    "        self.market = market\n",
    "        self.seasonality = seasonality\n",
    "\n",
    "\n",
    "class SmartphoneDNS(AbsSmartphone):\n",
    "    def calc_price(self) -> float:\n",
    "        \"\"\"\n",
    "        Как я упоминал ранее, здесь может находиться сложная логика, поэтому реализовано\n",
    "        для каждого класса индивидуально.\n",
    "        \"\"\"\n",
    "        return self.base_price * self.market.coefficient * self.seasonality.coefficient\n",
    "\n",
    "\n",
    "class SmartphoneSamsung(AbsSmartphone):\n",
    "    def calc_price(self) -> float:\n",
    "        return self.base_price * self.market.coefficient * self.seasonality.coefficient"
   ]
  },
  {
   "cell_type": "code",
   "execution_count": 19,
   "metadata": {},
   "outputs": [
    {
     "name": "stdout",
     "output_type": "stream",
     "text": [
      "Цена при покупке SAMSUNG из Индии летом: 11700.0\n"
     ]
    }
   ],
   "source": [
    "smartphone = SmartphoneSamsung(\n",
    "    13000,\n",
    "    IndiaCoefficient(),\n",
    "    SummerCoefficient(),\n",
    ")\n",
    "\n",
    "print(\"Цена при покупке SAMSUNG из Индии летом:\", smartphone.calc_price())"
   ]
  }
 ],
 "metadata": {
  "kernelspec": {
   "display_name": "dev",
   "language": "python",
   "name": "python3"
  },
  "language_info": {
   "codemirror_mode": {
    "name": "ipython",
    "version": 3
   },
   "file_extension": ".py",
   "mimetype": "text/x-python",
   "name": "python",
   "nbconvert_exporter": "python",
   "pygments_lexer": "ipython3",
   "version": "3.10.9"
  }
 },
 "nbformat": 4,
 "nbformat_minor": 2
}
