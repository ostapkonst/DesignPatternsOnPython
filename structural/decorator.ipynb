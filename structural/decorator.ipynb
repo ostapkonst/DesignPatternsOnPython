{
 "cells": [
  {
   "cell_type": "markdown",
   "metadata": {},
   "source": [
    "# Декоратор (decorator)\n",
    "\n",
    "Декоратор — это структурный паттерн проектирования, который позволяет динамически добавлять объектам новую функциональность, оборачивая их в полезные «обёртки».\n"
   ]
  },
  {
   "cell_type": "markdown",
   "metadata": {},
   "source": [
    "## Пример\n",
    "\n",
    "При разработке сервиса, потребовалось опциональное логирование. При этом логи могут писаться в файл, выводиться в консоль или отправляться в Graylog. Эти возможности должны задаваться во время работы программы (в runtime). По умолчанию все логи должны выводиться в консоль.\n"
   ]
  },
  {
   "cell_type": "code",
   "execution_count": 7,
   "metadata": {},
   "outputs": [],
   "source": [
    "import abc\n",
    "\n",
    "\n",
    "class AbsLogger(abc.ABC):\n",
    "    \"\"\"\n",
    "    Абстрактный класс предоставляет интерфейс для логирования\n",
    "    \"\"\"\n",
    "\n",
    "    @abc.abstractmethod\n",
    "    def logging(self, msg: str) -> None:\n",
    "        ...\n",
    "\n",
    "\n",
    "class DefaultLogger(AbsLogger):\n",
    "    def logging(self, msg: str) -> None:\n",
    "        print(\"[SCREEN LOGGING]:\", msg)\n",
    "\n",
    "\n",
    "class AbsDecorator(AbsLogger):\n",
    "    \"\"\"\n",
    "    Абстрактный декоратор. Обратите внимание, что он реализует интерфейс `AbsLogger`\n",
    "    \"\"\"\n",
    "\n",
    "    def __init__(self, logger: AbsLogger) -> None:\n",
    "        self.logger = logger\n",
    "\n",
    "\n",
    "class LoggingToFile(AbsDecorator):\n",
    "    def logging(self, msg: str) -> None:\n",
    "        # Последовательность вызовов можно менять\n",
    "        self.logger.logging(msg)\n",
    "        print(\"[FILE LOGGING]:\", msg)\n",
    "\n",
    "\n",
    "class LoggingToGraylog(AbsDecorator):\n",
    "    def logging(self, msg: str) -> None:\n",
    "        # Последовательность вызовов можно менять\n",
    "        self.logger.logging(msg)\n",
    "        print(\"[Graylog LOGGING]:\", msg)"
   ]
  },
  {
   "cell_type": "code",
   "execution_count": 8,
   "metadata": {},
   "outputs": [
    {
     "name": "stdout",
     "output_type": "stream",
     "text": [
      "[SCREEN LOGGING]: Пока ни каких декораторов не навесили\n",
      "\n",
      "Добавляем декораторы и вызываем логирование вновь\n",
      "[SCREEN LOGGING]: Накинули 2 декоратора\n",
      "[FILE LOGGING]: Накинули 2 декоратора\n",
      "[Graylog LOGGING]: Накинули 2 декоратора\n"
     ]
    }
   ],
   "source": [
    "logger = DefaultLogger()\n",
    "logger.logging(\"Пока ни каких декораторов не навесили\")\n",
    "\n",
    "print(\"\\nДобавляем декораторы и вызываем логирование вновь\")\n",
    "logger = LoggingToFile(logger)\n",
    "logger = LoggingToGraylog(logger)\n",
    "logger.logging(\"Накинули 2 декоратора\")"
   ]
  }
 ],
 "metadata": {
  "kernelspec": {
   "display_name": "dev",
   "language": "python",
   "name": "python3"
  },
  "language_info": {
   "codemirror_mode": {
    "name": "ipython",
    "version": 3
   },
   "file_extension": ".py",
   "mimetype": "text/x-python",
   "name": "python",
   "nbconvert_exporter": "python",
   "pygments_lexer": "ipython3",
   "version": "3.10.9"
  }
 },
 "nbformat": 4,
 "nbformat_minor": 2
}
