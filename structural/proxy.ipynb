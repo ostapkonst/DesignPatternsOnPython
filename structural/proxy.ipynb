{
 "cells": [
  {
   "cell_type": "markdown",
   "metadata": {},
   "source": [
    "# Заместитель (proxy)\n",
    "\n",
    "Заместитель — это структурный паттерн проектирования, который позволяет подставлять вместо реальных объектов специальные объекты-заменители. Эти объекты перехватывают вызовы к оригинальному объекту, позволяя сделать что-то до или после передачи вызова оригиналу."
   ]
  },
  {
   "cell_type": "markdown",
   "metadata": {},
   "source": [
    "## Пример\n",
    "\n",
    "С ростом популярности сервиса, выросла нагрузка на СУБД. Запросы на SELECT стали обрабатываться слишком долго. Поэтому было принято решение кэшировать результаты запросов на стороне сервиса."
   ]
  },
  {
   "cell_type": "code",
   "execution_count": 4,
   "metadata": {},
   "outputs": [],
   "source": [
    "import abc\n",
    "import uuid\n",
    "from datetime import datetime\n",
    "from time import sleep\n",
    "from typing import Dict\n",
    "\n",
    "\n",
    "class AbsSQLExecutor:\n",
    "    @abc.abstractmethod\n",
    "    def execute(self, query: str) -> str:\n",
    "        ...\n",
    "\n",
    "\n",
    "class SQLExecutor(AbsSQLExecutor):\n",
    "    \"\"\"\n",
    "    Этот класс уже был реализован и оттестирован другой командой\n",
    "    Кэширование требуется внедрить в другом месте\n",
    "    \"\"\"\n",
    "\n",
    "    def execute(self, query: str) -> str:\n",
    "        \"\"\"\n",
    "        Тут должна быть логика SQL-запроса в БД\n",
    "        \"\"\"\n",
    "        return str(uuid.uuid4())\n",
    "\n",
    "\n",
    "class QueryProxy(AbsSQLExecutor):\n",
    "    \"\"\"\n",
    "    Нужен для добавления кэширования при вызове `execute`\n",
    "    \"\"\"\n",
    "\n",
    "    cached_ttl = 2.0\n",
    "    exec_timestamp: Dict[str, datetime] = {}\n",
    "    exec_date: Dict[str, str] = {}\n",
    "\n",
    "    def __init__(self, sql_executor) -> None:\n",
    "        self.sql_executor = sql_executor\n",
    "\n",
    "    @classmethod\n",
    "    def execute(cls, query: str) -> str:\n",
    "        now = datetime.now()\n",
    "\n",
    "        # Если кэш валиден, берем результат из него\n",
    "        if query in cls.exec_timestamp:\n",
    "            last_timestamp = cls.exec_timestamp[query]\n",
    "            elapsed_time = (now - last_timestamp).total_seconds()\n",
    "            if elapsed_time <= cls.cached_ttl:\n",
    "                # Тут должно быть получение сохраненных данных в кэше\n",
    "                return cls.exec_date[query]\n",
    "\n",
    "        cls.exec_timestamp[query] = now\n",
    "        cls.exec_date[query] = str(uuid.uuid4())\n",
    "        # Тут должна быть отправка запроса на сервер и сохранение данных в кэше\n",
    "        return cls.exec_date[query]"
   ]
  },
  {
   "cell_type": "code",
   "execution_count": 11,
   "metadata": {},
   "outputs": [
    {
     "name": "stdout",
     "output_type": "stream",
     "text": [
      "Посылаем одинаковый запрос 2 раза подряд и печатаем результат\n",
      "\n",
      "Запрос без кэширования\n",
      "4d3ce638-968f-449b-b158-5cedd1456de7\n",
      "d1dcf25c-d8b6-495b-a00a-0f90676e3efa\n",
      "\n",
      "А теперь, через кэширующее прокси\n",
      "354e8b26-9a45-416a-a455-ba7f191f17f0\n",
      "354e8b26-9a45-416a-a455-ba7f191f17f0\n",
      "После истечения времени, кэш должен инвалидироваться\n",
      "1784263e-d217-4ced-a474-16b2ab670f97\n"
     ]
    }
   ],
   "source": [
    "query = \"SELECT ...\"\n",
    "\n",
    "source_selector = SQLExecutor()\n",
    "proxy_selector = QueryProxy(source_selector)\n",
    "\n",
    "# Задержки добавлены для демонстрации кэширования\n",
    "print(\"Посылаем одинаковый запрос 2 раза подряд и печатаем результат\")\n",
    "print()\n",
    "print(\"Запрос без кэширования\")\n",
    "print(source_selector.execute(query))\n",
    "print(source_selector.execute(query))\n",
    "print()\n",
    "print(\"А теперь, через кэширующее прокси\")\n",
    "print(proxy_selector.execute(query))\n",
    "print(proxy_selector.execute(query))\n",
    "sleep(3)\n",
    "print(\"После истечения времени, кэш должен инвалидироваться\")\n",
    "print(proxy_selector.execute(query))"
   ]
  }
 ],
 "metadata": {
  "kernelspec": {
   "display_name": "dev",
   "language": "python",
   "name": "python3"
  },
  "language_info": {
   "codemirror_mode": {
    "name": "ipython",
    "version": 3
   },
   "file_extension": ".py",
   "mimetype": "text/x-python",
   "name": "python",
   "nbconvert_exporter": "python",
   "pygments_lexer": "ipython3",
   "version": "3.10.9"
  }
 },
 "nbformat": 4,
 "nbformat_minor": 2
}
