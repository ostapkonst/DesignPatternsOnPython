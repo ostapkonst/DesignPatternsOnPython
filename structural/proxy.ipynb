{
 "cells": [
  {
   "cell_type": "markdown",
   "metadata": {},
   "source": [
    "# Заместитель (proxy)\n",
    "\n",
    "Заместитель — это структурный паттерн проектирования, который позволяет подставлять вместо реальных объектов специальные объекты-заменители. Эти объекты перехватывают вызовы к оригинальному объекту, позволяя сделать что-то до или после передачи вызова оригиналу."
   ]
  },
  {
   "cell_type": "markdown",
   "metadata": {},
   "source": [
    "## Пример\n",
    "\n",
    "С ростом популярности сервиса, выросла нагрузка на СУБД. Запросы на SELECT стали обрабатываться слишком долго. Поэтому было принято решение кэшировать результаты запросов на стороне сервиса."
   ]
  },
  {
   "cell_type": "code",
   "execution_count": 15,
   "metadata": {},
   "outputs": [],
   "source": [
    "import abc\n",
    "import uuid\n",
    "from datetime import datetime\n",
    "from time import sleep\n",
    "from typing import Dict\n",
    "\n",
    "\n",
    "class AbsSQLExecutor:\n",
    "    @abc.abstractmethod\n",
    "    def execute(self, query: str) -> str:\n",
    "        ...\n",
    "\n",
    "\n",
    "class SQLExecutor(AbsSQLExecutor):\n",
    "    \"\"\"\n",
    "    Этот класс уже был реализован и оттестирован другой командой\n",
    "    Кэширование требуется внедрить в другом месте\n",
    "    \"\"\"\n",
    "\n",
    "    def execute(self, query: str) -> str:\n",
    "        \"\"\"\n",
    "        Тут должна быть логика SQL-запроса в БД\n",
    "        \"\"\"\n",
    "        return str(uuid.uuid4())\n",
    "\n",
    "\n",
    "class QueryProxy(AbsSQLExecutor):\n",
    "    \"\"\"\n",
    "    Нужен для добавления кэширования при вызове `execute`\n",
    "    \"\"\"\n",
    "\n",
    "    cached_ttl = 2.0\n",
    "    exec_timestamp: Dict[str, datetime] = {}\n",
    "    exec_date: Dict[str, str] = {}\n",
    "\n",
    "    def __init__(self, sql_executor) -> None:\n",
    "        self.sql_executor = sql_executor\n",
    "\n",
    "    @classmethod\n",
    "    def execute(cls, query: str) -> str:\n",
    "        now = datetime.now()\n",
    "\n",
    "        # Если кэш валиден, берем результат из него\n",
    "        if query in cls.exec_timestamp:\n",
    "            last_timestamp = cls.exec_timestamp[query]\n",
    "            elapsed_time = (now - last_timestamp).total_seconds()\n",
    "            if elapsed_time <= cls.cached_ttl:\n",
    "                # Тут должно быть получение сохраненных данных в кэше\n",
    "                return f\"EXECUTED AT: {cls.exec_date[query]}\"\n",
    "\n",
    "        cls.exec_timestamp[query] = now\n",
    "        cls.exec_date[query] = str(uuid.uuid4())\n",
    "        # Тут должна быть отправка запроса на сервер и сохранение данных в кэше\n",
    "        return f\"EXECUTED AT: {cls.exec_date[query]}\""
   ]
  },
  {
   "cell_type": "code",
   "execution_count": 16,
   "metadata": {},
   "outputs": [
    {
     "name": "stdout",
     "output_type": "stream",
     "text": [
      "Запрос без кэширования\n",
      "02aaf790-6917-4570-b816-09729dea8344\n",
      "81de6c5d-2f5e-4a97-83ab-e665fb885db1\n",
      "А теперь, через кэширующее прокси\n",
      "EXECUTED AT: d1b6e6f0-f65d-4892-8ec7-c4d083be1037\n",
      "EXECUTED AT: d1b6e6f0-f65d-4892-8ec7-c4d083be1037\n",
      "После истечения времени, кэш должен инвалидироваться\n",
      "EXECUTED AT: e8fca978-21f9-4f14-89b1-feee38e171d3\n"
     ]
    }
   ],
   "source": [
    "query = \"SELECT ...\"\n",
    "\n",
    "source_selector = SQLExecutor()\n",
    "proxy_selector = QueryProxy(source_selector)\n",
    "\n",
    "# Задержки добавлены для демонстрации кэширования\n",
    "print(\"Запрос без кэширования\")\n",
    "print(source_selector.execute(query))\n",
    "print(source_selector.execute(query))\n",
    "\n",
    "print(\"А теперь, через кэширующее прокси\")\n",
    "print(proxy_selector.execute(query))\n",
    "print(proxy_selector.execute(query))\n",
    "sleep(3)\n",
    "print(\"После истечения времени, кэш должен инвалидироваться\")\n",
    "print(proxy_selector.execute(query))"
   ]
  }
 ],
 "metadata": {
  "kernelspec": {
   "display_name": "dev",
   "language": "python",
   "name": "python3"
  },
  "language_info": {
   "codemirror_mode": {
    "name": "ipython",
    "version": 3
   },
   "file_extension": ".py",
   "mimetype": "text/x-python",
   "name": "python",
   "nbconvert_exporter": "python",
   "pygments_lexer": "ipython3",
   "version": "3.10.9"
  }
 },
 "nbformat": 4,
 "nbformat_minor": 2
}
