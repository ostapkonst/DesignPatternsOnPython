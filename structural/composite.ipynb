{
 "cells": [
  {
   "cell_type": "markdown",
   "metadata": {},
   "source": [
    "# Компоновщик (composite)\n",
    "\n",
    "Компоновщик — это структурный паттерн проектирования, который позволяет сгруппировать множество объектов в древовидную структуру, а затем работать с ней так, как будто это единичный объект."
   ]
  },
  {
   "cell_type": "markdown",
   "metadata": {},
   "source": [
    "## Пример\n",
    "\n",
    "При перевозе посылок с объявленной стоимостью, они пакуются в коробки. Вместе с посылками, в коробку могут быть вложены другие коробки. Требуется подсчитать суммарную стоимость посылок в коробке."
   ]
  },
  {
   "cell_type": "code",
   "execution_count": 11,
   "metadata": {},
   "outputs": [],
   "source": [
    "import abc\n",
    "from typing import Iterable\n",
    "\n",
    "\n",
    "class AbsComposite(abc.ABC):\n",
    "    @abc.abstractproperty\n",
    "    def total_price(self) -> float:\n",
    "        ...\n",
    "\n",
    "\n",
    "class Package(AbsComposite):\n",
    "    \"\"\"\n",
    "    Конкретная посылка (по сути всегда лист дерева)\n",
    "    \"\"\"\n",
    "\n",
    "    def __init__(self, price: float) -> None:\n",
    "        self.price = price\n",
    "\n",
    "    @property\n",
    "    def total_price(self) -> float:\n",
    "        return self.price\n",
    "\n",
    "\n",
    "class Tree(AbsComposite):\n",
    "    \"\"\"\n",
    "    Контейнер для посылок\n",
    "    \"\"\"\n",
    "\n",
    "    def __init__(self, members: Iterable[AbsComposite]) -> None:\n",
    "        self.members = members\n",
    "\n",
    "    @property\n",
    "    def total_price(self) -> float:\n",
    "        return sum(i.total_price for i in self.members)"
   ]
  },
  {
   "cell_type": "code",
   "execution_count": 13,
   "metadata": {},
   "outputs": [
    {
     "name": "stdout",
     "output_type": "stream",
     "text": [
      "Суммарная стоимость коробки: 21010\n"
     ]
    }
   ],
   "source": [
    "box_1 = Tree(\n",
    "    [\n",
    "        Package(10),\n",
    "        Package(3000),\n",
    "    ]\n",
    ")\n",
    "\n",
    "box_2 = Tree(\n",
    "    [\n",
    "        Package(10000),\n",
    "        Package(5000),\n",
    "    ]\n",
    ")\n",
    "\n",
    "# В эту коробку вкладываем другую, вместе с посылками\n",
    "final_box = Tree(\n",
    "    [\n",
    "        box_1,\n",
    "        box_2,\n",
    "        Package(3000),\n",
    "    ]\n",
    ")\n",
    "\n",
    "print(\"Суммарная стоимость коробки:\", final_box.total_price)"
   ]
  }
 ],
 "metadata": {
  "kernelspec": {
   "display_name": "dev",
   "language": "python",
   "name": "python3"
  },
  "language_info": {
   "codemirror_mode": {
    "name": "ipython",
    "version": 3
   },
   "file_extension": ".py",
   "mimetype": "text/x-python",
   "name": "python",
   "nbconvert_exporter": "python",
   "pygments_lexer": "ipython3",
   "version": "3.10.9"
  }
 },
 "nbformat": 4,
 "nbformat_minor": 2
}
