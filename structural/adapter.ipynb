{
 "cells": [
  {
   "cell_type": "markdown",
   "metadata": {},
   "source": [
    "# Адаптер (adapter)\n",
    "\n",
    "Адаптер — это структурный паттерн проектирования, который позволяет объектам с несовместимыми интерфейсами работать вместе."
   ]
  },
  {
   "cell_type": "markdown",
   "metadata": {},
   "source": [
    "## Пример\n",
    "\n",
    "При разработке сервиса авторизации, работа была декомпозирована 2 отделам. В тех. задании была допущена\n",
    "ошибка, из-за которой одна команда в качестве идентификатора клиента использовала `UUID`, а другая — `Microsoft LDAP ObjectGuid`. Требуется состыковать код, унифицировав аутентификацию к `UUID` виду.\n"
   ]
  },
  {
   "cell_type": "code",
   "execution_count": 37,
   "metadata": {},
   "outputs": [],
   "source": [
    "import abc\n",
    "\n",
    "\n",
    "class LDAPGuidAuth:\n",
    "    \"\"\"\n",
    "    Класс, который реализовала первая команда.\n",
    "    \"\"\"\n",
    "\n",
    "    id = \"\"\n",
    "\n",
    "    def auth(self, login: str, password: str) -> None:\n",
    "        # Для демонстрационных целей захардкодил конкретный `LDAP ObjectGuid`\n",
    "        self.id = \"x+QSIh4FDE2aWxJ3Cpu3qw==\"\n",
    "\n",
    "    @property\n",
    "    def ldap_id(self) -> str:\n",
    "        return self.id\n",
    "\n",
    "\n",
    "class AbsUUIDAuth:\n",
    "    \"\"\"\n",
    "    В дальнейшем, приведем адаптируемый класс к данному \"интерфейсу\"\n",
    "    \"\"\"\n",
    "\n",
    "    id = \"\"\n",
    "\n",
    "    @abc.abstractproperty\n",
    "    def uuid_id(self) -> str:\n",
    "        ...\n",
    "\n",
    "\n",
    "class UUIDAuth(AbsUUIDAuth):\n",
    "    \"\"\"\n",
    "    Класс, который реализовала вторая команда\n",
    "    \"\"\"\n",
    "\n",
    "    def auth(self, login: str, password: str) -> None:\n",
    "        # Для демонстрационных целей захардкодил конкретный `Python UUID`\n",
    "        self.id = \"2212e4c7-051e-4d0c-9a5b-12770a9bb7ab\"\n",
    "\n",
    "    @property\n",
    "    def uuid_id(self) -> str:\n",
    "        return self.id"
   ]
  },
  {
   "cell_type": "code",
   "execution_count": 38,
   "metadata": {},
   "outputs": [],
   "source": [
    "import base64\n",
    "import uuid\n",
    "from typing import Any\n",
    "\n",
    "\n",
    "class AbsAdapter(abc.ABC):\n",
    "    \"\"\"\n",
    "    Класс адаптера, которому передам в качестве параметра исходный объект (адаптируемый)\n",
    "    Реализация через композицию\n",
    "    \"\"\"\n",
    "\n",
    "    def __init__(self, source: Any) -> None:\n",
    "        self._source_obj = source\n",
    "\n",
    "\n",
    "class LDAPGuidAdapter(AbsAdapter, AbsUUIDAuth):\n",
    "    \"\"\"\n",
    "    Реализация адаптера, для использования `LDAPGuidAuth` там, где ожидается `UUIDAuth`\n",
    "    \"\"\"\n",
    "\n",
    "    @property\n",
    "    def uuid_id(self) -> str:\n",
    "        \"\"\"\n",
    "        Преобразуем `id` вида `LDAPGuidAuth` в `UUID`\n",
    "        \"\"\"\n",
    "        return str(uuid.UUID(bytes_le=base64.b64decode(self._source_obj.id)))"
   ]
  },
  {
   "cell_type": "code",
   "execution_count": 39,
   "metadata": {},
   "outputs": [],
   "source": [
    "ldap_base_auth = LDAPGuidAuth()\n",
    "uuid_base_auth = UUIDAuth()\n",
    "\n",
    "ldap_base_auth.auth(\"user\", \"example\")\n",
    "uuid_base_auth.auth(\"user\", \"example\")\n",
    "\n",
    "# Преобразовываем к общему интерфейсу, если не сделаем, получим `AttributeError`\n",
    "adapted_ldap_auth = LDAPGuidAdapter(ldap_base_auth)\n",
    "\n",
    "# У исходного класса `LDAPGuidAuth` не было этого свойства\n",
    "assert uuid_base_auth.uuid_id == adapted_ldap_auth.uuid_id"
   ]
  }
 ],
 "metadata": {
  "kernelspec": {
   "display_name": "dev",
   "language": "python",
   "name": "python3"
  },
  "language_info": {
   "codemirror_mode": {
    "name": "ipython",
    "version": 3
   },
   "file_extension": ".py",
   "mimetype": "text/x-python",
   "name": "python",
   "nbconvert_exporter": "python",
   "pygments_lexer": "ipython3",
   "version": "3.10.9"
  }
 },
 "nbformat": 4,
 "nbformat_minor": 2
}
