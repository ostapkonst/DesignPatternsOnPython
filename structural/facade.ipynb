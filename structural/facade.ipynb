{
 "cells": [
  {
   "cell_type": "markdown",
   "metadata": {},
   "source": [
    "# Фасад (facade)\n",
    "\n",
    "Фасад — это структурный паттерн проектирования, который предоставляет простой интерфейс к сложной системе классов, библиотеке или фреймворку."
   ]
  },
  {
   "cell_type": "markdown",
   "metadata": {},
   "source": [
    "## Пример\n",
    "\n",
    "Необходимо реализовать преобразование файлов из одного формата в другой. На вход поступает `*.pdf` файл, на выходе ожидается `*.jpg`. Никаких дополнительных опций реализовывать не требуется. У вас уже есть готовая реализация, но она принимает параметры сжатия и требует предварительной инициализации для хранения временных файлов."
   ]
  },
  {
   "cell_type": "code",
   "execution_count": 8,
   "metadata": {},
   "outputs": [],
   "source": [
    "from dataclasses import dataclass\n",
    "from enum import Enum\n",
    "\n",
    "\n",
    "class CompressionAlgorithm(Enum):\n",
    "    RLE = 1\n",
    "    LZW = 2\n",
    "    DXTC = 3\n",
    "\n",
    "\n",
    "@dataclass\n",
    "class ConvertDetails:\n",
    "    file_path: str\n",
    "    format: str\n",
    "\n",
    "\n",
    "class MultiConverter:\n",
    "    def __init__(self, tmp_folder: str) -> None:\n",
    "        \"\"\"\n",
    "        Исходный класс путь к директории для хранения временных файлов.\n",
    "        \"\"\"\n",
    "        pass\n",
    "\n",
    "    def convert(\n",
    "        self,\n",
    "        src_file: ConvertDetails,\n",
    "        dest_file: ConvertDetails,\n",
    "        compression: CompressionAlgorithm,\n",
    "    ) -> int:\n",
    "        \"\"\"\n",
    "        Исходный класс принимает информацию по входному и выходному файлам, а также алгоритм сжатия.\n",
    "        Возвращает статус конвертации (0 — удачно, 1 — произошла ошибка при конвертации).\n",
    "        \"\"\"\n",
    "        return 0"
   ]
  },
  {
   "cell_type": "code",
   "execution_count": 9,
   "metadata": {},
   "outputs": [],
   "source": [
    "class SimpleConverter:\n",
    "    \"\"\"\n",
    "    Класс фасада предоставляет простой интерфейс для сложной логики.\n",
    "    По сути, это паттерн инкапсулирует сложность взаимодействия с исходным объектом.\n",
    "    \"\"\"\n",
    "\n",
    "    def __init__(self) -> None:\n",
    "        self.full_converter = MultiConverter(\"/tmp\")\n",
    "\n",
    "    def convert(self, src_path: str, dest_path: str) -> None:\n",
    "        \"\"\"\n",
    "        Этот метод стал намного проще относительно исходного.\n",
    "        \"\"\"\n",
    "        src = ConvertDetails(file_path=src_path, format=\"pdf\")\n",
    "        dest = ConvertDetails(file_path=dest_path, format=\"jpg\")\n",
    "\n",
    "        result = self.full_converter.convert(\n",
    "            src,\n",
    "            dest,\n",
    "            CompressionAlgorithm.LZW,\n",
    "        )\n",
    "\n",
    "        if result:\n",
    "            raise Exception(\"Не удалось преобразовать файл.\")"
   ]
  },
  {
   "cell_type": "code",
   "execution_count": 10,
   "metadata": {},
   "outputs": [],
   "source": [
    "converter = SimpleConverter()\n",
    "converter.convert(\"document_783.pdf\", \"document_783.jpg\")"
   ]
  }
 ],
 "metadata": {
  "kernelspec": {
   "display_name": "dev",
   "language": "python",
   "name": "python3"
  },
  "language_info": {
   "codemirror_mode": {
    "name": "ipython",
    "version": 3
   },
   "file_extension": ".py",
   "mimetype": "text/x-python",
   "name": "python",
   "nbconvert_exporter": "python",
   "pygments_lexer": "ipython3",
   "version": "3.10.9"
  }
 },
 "nbformat": 4,
 "nbformat_minor": 2
}
