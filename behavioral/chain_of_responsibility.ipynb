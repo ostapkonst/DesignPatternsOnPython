{
 "cells": [
  {
   "cell_type": "markdown",
   "metadata": {},
   "source": [
    "# Цепочка обязанностей (chain of responsibility)\n",
    "\n",
    "Цепочка обязанностей — это поведенческий паттерн проектирования, который позволяет передавать запросы последовательно по цепочке обработчиков. Каждый последующий обработчик решает, может ли он обработать запрос сам и стоит ли передавать запрос дальше по цепи."
   ]
  },
  {
   "cell_type": "markdown",
   "metadata": {},
   "source": [
    "## Пример\n",
    "\n",
    "Вы автоматизируете службу техническое поддержки. В организации всего 3 уровня тех. поддержки (от первого до третьего). Чем выше уровень, тем более сложные проблемы может решать специалист. При возникновении проблемы, клиент оформляет заявку и отправляет ее на обработку. Требуется реализовать алгоритм распределения заявок по специалистам тех. поддержки."
   ]
  },
  {
   "cell_type": "code",
   "execution_count": 35,
   "metadata": {},
   "outputs": [],
   "source": [
    "from __future__ import annotations\n",
    "import abc\n",
    "from typing import Optional\n",
    "from dataclasses import dataclass\n",
    "\n",
    "\n",
    "@dataclass\n",
    "class Request:\n",
    "    \"\"\"\n",
    "    Запрос от клиента\n",
    "    \"\"\"\n",
    "\n",
    "    technical_support_line: str\n",
    "    details_message: str\n",
    "\n",
    "\n",
    "class AbsHandler(abc.ABC):\n",
    "    \"\"\"\n",
    "    Абстрактный класс обработчика с частичной реализацией.\n",
    "    \"\"\"\n",
    "\n",
    "    _handler: Optional[AbsHandler] = None\n",
    "\n",
    "    def set_next(self, handler: AbsHandler) -> AbsHandler:\n",
    "        \"\"\"\n",
    "        Добавляет следующий обработчик.\n",
    "        \"\"\"\n",
    "        self._handler = handler\n",
    "        return handler\n",
    "\n",
    "    @abc.abstractmethod\n",
    "    def handle(self, request: Request) -> None:\n",
    "        \"\"\"\n",
    "        Метод обработки запроса.\n",
    "        \"\"\"\n",
    "        if self._handler is None:\n",
    "            return\n",
    "        # Передаем запрос следующему обработчику\n",
    "        self._handler.handle(request)\n",
    "\n",
    "\n",
    "class FirstLine(AbsHandler):\n",
    "    def handle(self, request: Request) -> None:\n",
    "        if request.technical_support_line == \"first_line\":\n",
    "            print(\n",
    "                \"[1-линия тех. поддержки] Попробуйте перезапустить и прочесть инструкцию\"\n",
    "            )\n",
    "        else:\n",
    "            super().handle(request)\n",
    "\n",
    "\n",
    "class SecondLine(AbsHandler):\n",
    "    def handle(self, request: Request) -> None:\n",
    "        if request.technical_support_line == \"second_line\":\n",
    "            print(\n",
    "                \"[2-линия тех. поддержки] Посмотрите на световой индикатор на передней панели\"\n",
    "            )\n",
    "        else:\n",
    "            super().handle(request)\n",
    "\n",
    "\n",
    "class ThirdLine(AbsHandler):\n",
    "    def handle(self, request: Request) -> None:\n",
    "        if request.technical_support_line == \"third_line\":\n",
    "            print(\n",
    "                \"[3-линия тех. поддержки] Отройте отладчик и передайте содержимое стека\"\n",
    "            )\n",
    "        else:\n",
    "            super().handle(request)"
   ]
  },
  {
   "cell_type": "code",
   "execution_count": 37,
   "metadata": {},
   "outputs": [
    {
     "name": "stdout",
     "output_type": "stream",
     "text": [
      "[запрос клиента]: Подключил к сети TP-Link, а он не раздает сеть по WI-FI\n",
      "[1-линия тех. поддержки] Попробуйте перезапустить и прочесть инструкцию\n",
      "\n",
      "[запрос клиента]: На свежих драйверах Nvidia в безопасном режиме не работает сглаживание\n",
      "[3-линия тех. поддержки] Отройте отладчик и передайте содержимое стека\n",
      "\n"
     ]
    }
   ],
   "source": [
    "requests = [\n",
    "    Request(\n",
    "        technical_support_line=\"first_line\",\n",
    "        details_message=\"Подключил к сети TP-Link, а он не раздает сеть по WI-FI\",\n",
    "    ),\n",
    "    Request(\n",
    "        technical_support_line=\"third_line\",\n",
    "        details_message=\"На свежих драйверах Nvidia в безопасном режиме не работает сглаживание\",\n",
    "    ),\n",
    "]\n",
    "\n",
    "handler = FirstLine()\n",
    "\n",
    "# Выстраиваем все обработчики в цепочку\n",
    "prev_handler = handler\n",
    "for current_handler in (SecondLine(), ThirdLine()):\n",
    "    prev_handler = prev_handler.set_next(current_handler)\n",
    "\n",
    "\n",
    "# Для каждого запроса, достаточно вызвать обработку у первого обработчика в цепи\n",
    "for request in requests:\n",
    "    print(\"[запрос клиента]:\", request.details_message)\n",
    "    handler.handle(request)\n",
    "    print()"
   ]
  }
 ],
 "metadata": {
  "kernelspec": {
   "display_name": "dev",
   "language": "python",
   "name": "python3"
  },
  "language_info": {
   "codemirror_mode": {
    "name": "ipython",
    "version": 3
   },
   "file_extension": ".py",
   "mimetype": "text/x-python",
   "name": "python",
   "nbconvert_exporter": "python",
   "pygments_lexer": "ipython3",
   "version": "3.10.9"
  }
 },
 "nbformat": 4,
 "nbformat_minor": 2
}
