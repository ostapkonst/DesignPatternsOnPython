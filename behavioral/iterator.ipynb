{
 "cells": [
  {
   "cell_type": "markdown",
   "metadata": {},
   "source": [
    "# Итератор (iterator)\n",
    "\n",
    "Итератор — это поведенческий паттерн проектирования, который даёт возможность последовательно обходить элементы составных объектов, не раскрывая их внутреннего представления.\n"
   ]
  },
  {
   "cell_type": "markdown",
   "metadata": {},
   "source": [
    "## Пример\n",
    "\n",
    "Дан каталог ГИБДД. Требуется сделать найти всех владельцев автомобилей, номера которых начинаются на `A0`.\n"
   ]
  },
  {
   "cell_type": "code",
   "execution_count": 7,
   "metadata": {},
   "outputs": [],
   "source": [
    "from dataclasses import dataclass\n",
    "from typing import Iterator, List\n",
    "\n",
    "\n",
    "@dataclass\n",
    "class DatabaseRecord:\n",
    "    car_number: str\n",
    "    car_owner: str\n",
    "\n",
    "\n",
    "class Database(Iterator):\n",
    "    records: List[DatabaseRecord]\n",
    "\n",
    "    def __init__(self) -> None:\n",
    "        self.records = list()\n",
    "\n",
    "    def add_record(self, record: DatabaseRecord) -> None:\n",
    "        self.records.append(record)\n",
    "\n",
    "    def __iter__(self) -> \"Database\":\n",
    "        self.cursor = 0\n",
    "        return self\n",
    "\n",
    "    def __next__(self) -> DatabaseRecord:\n",
    "        if self.cursor < len(self.records):\n",
    "            record = self.records[self.cursor - 1]\n",
    "            self.cursor += 1\n",
    "            return record\n",
    "\n",
    "        raise StopIteration()"
   ]
  },
  {
   "cell_type": "code",
   "execution_count": 6,
   "metadata": {},
   "outputs": [
    {
     "name": "stdout",
     "output_type": "stream",
     "text": [
      "DatabaseRecord(car_number='A025OY', car_owner='Пробковый Г. Г.')\n",
      "DatabaseRecord(car_number='A012AA', car_owner='Стасов М. Г.')\n"
     ]
    }
   ],
   "source": [
    "list_of_records = [\n",
    "    DatabaseRecord(car_number=\"A012AA\", car_owner=\"Стасов М. Г.\"),\n",
    "    DatabaseRecord(car_number=\"B012EP\", car_owner=\"Конч Д. В.\"),\n",
    "    DatabaseRecord(car_number=\"A025OY\", car_owner=\"Пробковый Г. Г.\"),\n",
    "]\n",
    "\n",
    "db = Database()\n",
    "for record in list_of_records:\n",
    "    db.add_record(record)\n",
    "\n",
    "# В Python Iterator реализует и интерфейс Iterable\n",
    "for record in db:\n",
    "    if record.car_number.startswith(\"A0\"):\n",
    "        print(record)"
   ]
  }
 ],
 "metadata": {
  "kernelspec": {
   "display_name": "dev",
   "language": "python",
   "name": "python3"
  },
  "language_info": {
   "codemirror_mode": {
    "name": "ipython",
    "version": 3
   },
   "file_extension": ".py",
   "mimetype": "text/x-python",
   "name": "python",
   "nbconvert_exporter": "python",
   "pygments_lexer": "ipython3",
   "version": "3.10.9"
  }
 },
 "nbformat": 4,
 "nbformat_minor": 2
}
