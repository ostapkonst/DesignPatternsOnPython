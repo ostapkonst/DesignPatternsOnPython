{
 "cells": [
  {
   "cell_type": "markdown",
   "metadata": {},
   "source": [
    "# Стратегия (strategy)\n",
    "\n",
    "Стратегия — это поведенческий паттерн проектирования, который определяет семейство схожих алгоритмов и помещает каждый из них в собственный класс, после чего\n",
    "алгоритмы можно взаимозаменять прямо во время исполнения программы."
   ]
  },
  {
   "cell_type": "markdown",
   "metadata": {},
   "source": [
    "## Пример\n",
    "\n",
    "Автоматизируем магазин одежды. Клиентов делим на 3 группы: постоянные физ. лица, постоянные юр. лица, случайные покупатели. Требуется для каждой группы предоставлять дополнительные скидки на определенный сегмент товара."
   ]
  },
  {
   "cell_type": "code",
   "execution_count": 48,
   "metadata": {},
   "outputs": [],
   "source": [
    "import abc\n",
    "from random import randint\n",
    "from typing import Any\n",
    "from functools import lru_cache\n",
    "\n",
    "\n",
    "@lru_cache\n",
    "def generate_random_cost() -> int:\n",
    "    # Получаем значение исходной цены заказа\n",
    "    return randint(0, 10000)\n",
    "\n",
    "\n",
    "class AbsStrategy(abc.ABC):\n",
    "    @abc.abstractmethod\n",
    "    def calculate(self, order: Any) -> float:\n",
    "        \"\"\"\n",
    "        Получаем финальную цену заказа.\n",
    "        В дальнейших реализациях этот метод возвращает захардкоженные значения.\n",
    "        В реальных проектах, тут может быть сложная логика.\n",
    "        \"\"\"\n",
    "        ...\n",
    "\n",
    "\n",
    "class PermanentLegalEntitiesStrategy(AbsStrategy):\n",
    "    def calculate(self, order: Any) -> float:\n",
    "        return generate_random_cost() * 0.7\n",
    "\n",
    "\n",
    "class PermanentIndividualsStrategy(AbsStrategy):\n",
    "    def calculate(self, order: Any) -> float:\n",
    "        return generate_random_cost() * 0.9\n",
    "\n",
    "\n",
    "class RandomBuyerStrategy(AbsStrategy):\n",
    "    def calculate(self, order: Any) -> float:\n",
    "        return generate_random_cost() * 1.0\n",
    "\n",
    "\n",
    "class CostCalculator:\n",
    "    def __init__(self, strategy: AbsStrategy) -> None:\n",
    "        # Сохраняем ту стратегию, которую передали при инициализации\n",
    "        self.strategy = strategy\n",
    "\n",
    "    def get_final_cost(self, order: Any) -> float:\n",
    "        # Делегируем расчет конкретной стратегии\n",
    "        return self.strategy.calculate(order)"
   ]
  },
  {
   "cell_type": "code",
   "execution_count": 49,
   "metadata": {},
   "outputs": [
    {
     "name": "stdout",
     "output_type": "stream",
     "text": [
      "Постоянному юр. лицу: 2642.5\n",
      "Постоянному физ. лицу: 3397.5\n",
      "Случайному покупателю: 3775.0\n"
     ]
    }
   ],
   "source": [
    "# Подразумевается, что цены рассчитываются для одного и того же заказа\n",
    "\n",
    "strategy = PermanentLegalEntitiesStrategy()\n",
    "cost_calculator = CostCalculator(strategy)\n",
    "print(\"Постоянному юр. лицу:\", cost_calculator.get_final_cost(...))\n",
    "\n",
    "strategy = PermanentIndividualsStrategy()\n",
    "cost_calculator = CostCalculator(strategy)\n",
    "print(\"Постоянному физ. лицу:\", cost_calculator.get_final_cost(...))\n",
    "\n",
    "strategy = RandomBuyerStrategy()\n",
    "cost_calculator = CostCalculator(strategy)\n",
    "print(\"Случайному покупателю:\", cost_calculator.get_final_cost(...))"
   ]
  }
 ],
 "metadata": {
  "kernelspec": {
   "display_name": "dev",
   "language": "python",
   "name": "python3"
  },
  "language_info": {
   "codemirror_mode": {
    "name": "ipython",
    "version": 3
   },
   "file_extension": ".py",
   "mimetype": "text/x-python",
   "name": "python",
   "nbconvert_exporter": "python",
   "pygments_lexer": "ipython3",
   "version": "3.10.9"
  }
 },
 "nbformat": 4,
 "nbformat_minor": 2
}
