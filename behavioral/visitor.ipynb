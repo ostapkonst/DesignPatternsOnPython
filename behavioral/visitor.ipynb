{
 "cells": [
  {
   "cell_type": "markdown",
   "metadata": {},
   "source": [
    "# Посетитель (visitor)\n",
    "\n",
    "Посетитель — это поведенческий паттерн проектирования, который позволяет добавлять в программу новые операции, не изменяя классы объектов, над которыми эти операции могут выполняться."
   ]
  },
  {
   "cell_type": "markdown",
   "metadata": {},
   "source": [
    "На вход дано дерево организационной структуры компании. Узлами дерева являются сотрудники двух типов: руководители и линейный персонал. Требуется добавить функционал сохранения этого дерева в файл, при этом реализация **не должна** содержаться внутри существующих узлов (таково требование архитектора ПО)."
   ]
  },
  {
   "cell_type": "code",
   "execution_count": 15,
   "metadata": {},
   "outputs": [],
   "source": [
    "from typing import Iterable, List, Iterator\n",
    "import abc\n",
    "\n",
    "\n",
    "class AbsTree(abc.ABC):\n",
    "    @abc.abstractproperty\n",
    "    def name(self) -> str:\n",
    "        ...\n",
    "\n",
    "    @abc.abstractmethod\n",
    "    def accept(self, visitor) -> None:\n",
    "        \"\"\"\n",
    "        К готовой реализации нужно добавить только один метод.\n",
    "        Он вызывает метод наблюдателя и передает текущий узел в качестве параметра.\n",
    "        \"\"\"\n",
    "        ...\n",
    "\n",
    "\n",
    "class Employee(AbsTree):\n",
    "    def __init__(self, name: str) -> None:\n",
    "        self.__name = name\n",
    "\n",
    "    @property\n",
    "    def name(self) -> str:\n",
    "        return self.__name\n",
    "\n",
    "    def accept(self, visitor) -> None:\n",
    "        \"\"\"\n",
    "        Для каждого класса вызывается отдельный метод у наблюдателя.\n",
    "        \"\"\"\n",
    "        visitor.visit_employee(self)\n",
    "\n",
    "\n",
    "class Supervisor(Iterable, AbsTree):\n",
    "    def __init__(self, name: str, members: List[AbsTree]) -> None:\n",
    "        self.__name = name\n",
    "        self.__members = members\n",
    "\n",
    "    def __iter__(self) -> Iterator[AbsTree]:\n",
    "        return iter(self.__members)\n",
    "\n",
    "    @property\n",
    "    def name(self) -> str:\n",
    "        return self.__name\n",
    "\n",
    "    def accept(self, visitor) -> None:\n",
    "        \"\"\"\n",
    "        Пробегаемся по всем подчиненным руководителя.\n",
    "        \"\"\"\n",
    "        visitor.visit_supervisor(self)\n",
    "        for node in self:\n",
    "            node.accept(visitor)"
   ]
  },
  {
   "cell_type": "code",
   "execution_count": 16,
   "metadata": {},
   "outputs": [],
   "source": [
    "class AbsVisitor(abc.ABC):\n",
    "    @abc.abstractmethod\n",
    "    def visit_employee(self, employee: Employee) -> None:\n",
    "        ...\n",
    "\n",
    "    @abc.abstractmethod\n",
    "    def visit_supervisor(self, supervisor: Supervisor) -> None:\n",
    "        ...\n",
    "\n",
    "\n",
    "class ExportToFileVisitor(AbsVisitor):\n",
    "    \"\"\"\n",
    "    Оставляем логику сохранения в отдельном классе.\n",
    "    \"\"\"\n",
    "    def visit_employee(self, employee: Employee) -> None:\n",
    "        print(\"СОТРУДНИК:\", employee.name)\n",
    "\n",
    "    def visit_supervisor(self, supervisor: Supervisor) -> None:\n",
    "        print(\"РУКОВОДИТЕЛЬ:\", supervisor.name)\n",
    "        print(\"ПОДЧИНЕННЫЕ:\")"
   ]
  },
  {
   "cell_type": "code",
   "execution_count": 17,
   "metadata": {},
   "outputs": [
    {
     "name": "stdout",
     "output_type": "stream",
     "text": [
      "РУКОВОДИТЕЛЬ: Бровко\n",
      "ПОДЧИНЕННЫЕ:\n",
      "СОТРУДНИК: Киреев\n",
      "СОТРУДНИК: Максимов\n",
      "РУКОВОДИТЕЛЬ: Каневский\n",
      "ПОДЧИНЕННЫЕ:\n",
      "СОТРУДНИК: Рязанов\n",
      "СОТРУДНИК: Пигульский\n"
     ]
    }
   ],
   "source": [
    "visitor = ExportToFileVisitor()\n",
    "\n",
    "company = Supervisor(\n",
    "    \"Бровко\",\n",
    "    [\n",
    "        Employee(\"Киреев\"),\n",
    "        Employee(\"Максимов\"),\n",
    "        Supervisor(\n",
    "            \"Каневский\",\n",
    "            [\n",
    "                Employee(\"Рязанов\"),\n",
    "                Employee(\"Пигульский\"),\n",
    "            ],\n",
    "        ),\n",
    "    ],\n",
    ")\n",
    "\n",
    "company.accept(visitor)"
   ]
  }
 ],
 "metadata": {
  "kernelspec": {
   "display_name": "dev",
   "language": "python",
   "name": "python3"
  },
  "language_info": {
   "codemirror_mode": {
    "name": "ipython",
    "version": 3
   },
   "file_extension": ".py",
   "mimetype": "text/x-python",
   "name": "python",
   "nbconvert_exporter": "python",
   "pygments_lexer": "ipython3",
   "version": "3.10.9"
  }
 },
 "nbformat": 4,
 "nbformat_minor": 2
}
