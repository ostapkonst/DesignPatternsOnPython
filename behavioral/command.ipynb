{
 "cells": [
  {
   "cell_type": "markdown",
   "metadata": {},
   "source": [
    "# Команда (command)\n",
    "\n",
    "Команда — это поведенческий паттерн проектирования, который превращает запросы в объекты, позволяя передавать их как аргументы при вызове методов, ставить запросы в очередь, логировать их, а также поддерживать отмену операций."
   ]
  },
  {
   "cell_type": "markdown",
   "metadata": {},
   "source": [
    "## Пример\n",
    "\n",
    "Вы пишите калькулятор. Он должен выполнять следующие операции: сложение двух чисел, копирование текущего результата.\n"
   ]
  },
  {
   "cell_type": "code",
   "execution_count": 14,
   "metadata": {},
   "outputs": [],
   "source": [
    "import abc\n",
    "\n",
    "\n",
    "class AbsCommand(abc.ABC):\n",
    "    \"\"\"\n",
    "    Сама абстракция может не содержаться ничего, кроме одного метода.\n",
    "    \"\"\"\n",
    "\n",
    "    @abc.abstractmethod\n",
    "    def execute(self) -> None:\n",
    "        ...\n",
    "\n",
    "\n",
    "class AddCommand(AbsCommand):\n",
    "    \"\"\"\n",
    "    Команда, которая складывает два числа.\n",
    "    \"\"\"\n",
    "\n",
    "    def __init__(self, a: float, b: float) -> None:\n",
    "        self.a = a\n",
    "        self.b = b\n",
    "\n",
    "    def execute(self) -> None:\n",
    "        print(f\"Сложение двух чисел ({self.a} и {self.b}):\", self.a + self.b)\n",
    "\n",
    "\n",
    "class CopyCommand(AbsCommand):\n",
    "    \"\"\"\n",
    "    Команда, которая копирует буфер обмена.\n",
    "    \"\"\"\n",
    "\n",
    "    def execute(self) -> None:\n",
    "        print(\"Результат скопирован в буфер обмена\")\n",
    "\n",
    "\n",
    "class InvokeCalculation:\n",
    "    \"\"\"\n",
    "    Хранит текущую команду и позволяет выполнить ее единообразным способом.\n",
    "    \"\"\"\n",
    "\n",
    "    def __init__(self) -> None:\n",
    "        self.cmd = None\n",
    "\n",
    "    def command(self, cmd: AbsCommand) -> None:\n",
    "        \"\"\"\n",
    "        Назначает команду, которая будет выполняться при `execute`.\n",
    "        \"\"\"\n",
    "        self.cmd = cmd\n",
    "\n",
    "    def execute(self) -> None:\n",
    "        \"\"\"\n",
    "        Передавать параметры суда не нужно, они уже содержатся в командах.\n",
    "        \"\"\"\n",
    "        if not self.cmd is None:\n",
    "            self.cmd.execute()"
   ]
  },
  {
   "cell_type": "code",
   "execution_count": 15,
   "metadata": {},
   "outputs": [
    {
     "name": "stdout",
     "output_type": "stream",
     "text": [
      "Сложение двух чисел (1 и 3): 4\n",
      "Результат скопирован в буфер обмена\n"
     ]
    }
   ],
   "source": [
    "calculator = InvokeCalculation()\n",
    "\n",
    "add_cmd = AddCommand(1, 3)\n",
    "copy_cmd = CopyCommand()\n",
    "\n",
    "calculator.command(add_cmd)\n",
    "calculator.execute()\n",
    "\n",
    "# Меняем команду для выполнения\n",
    "calculator.command(copy_cmd)\n",
    "calculator.execute()"
   ]
  }
 ],
 "metadata": {
  "kernelspec": {
   "display_name": "dev",
   "language": "python",
   "name": "python3"
  },
  "language_info": {
   "codemirror_mode": {
    "name": "ipython",
    "version": 3
   },
   "file_extension": ".py",
   "mimetype": "text/x-python",
   "name": "python",
   "nbconvert_exporter": "python",
   "pygments_lexer": "ipython3",
   "version": "3.10.9"
  }
 },
 "nbformat": 4,
 "nbformat_minor": 2
}
