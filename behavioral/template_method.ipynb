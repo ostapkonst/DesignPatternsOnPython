{
 "cells": [
  {
   "cell_type": "markdown",
   "metadata": {},
   "source": [
    "# Шаблонный метод (template method)\n",
    "\n",
    "Шаблонный метод — это поведенческий паттерн проектирования, который определяет скелет алгоритма, перекладывая ответственность за некоторые его шаги на подклассы. Паттерн позволяет подклассам переопределять шаги алгоритма, не меняя его общей структуры.\n"
   ]
  },
  {
   "cell_type": "markdown",
   "metadata": {},
   "source": [
    "## Пример\n",
    "\n",
    "Автоматизируем международное туристическое агентство. Клиент выбирает из множества путевок понравившийся вариант. Но, все путевки следуют одному алгоритму: оплата услуг агентства, бронирование транспорта (туда), бронирование номера отеля, бронирование транспорта (обратно).\n"
   ]
  },
  {
   "cell_type": "code",
   "execution_count": 8,
   "metadata": {},
   "outputs": [],
   "source": [
    "import abc\n",
    "\n",
    "\n",
    "class AbsTravelPackage(abc.ABC):\n",
    "    \"\"\"\n",
    "    Класс реализует \"шаблон\" алгоритма бронирования для всех путевок\n",
    "    \"\"\"\n",
    "\n",
    "    def __init__(self, dest) -> None:\n",
    "        self.dest = dest\n",
    "\n",
    "    def booking_all(self) -> None:\n",
    "        \"\"\"\n",
    "        Здесь описывается общая часть бронирования путевок.\n",
    "        \"\"\"\n",
    "\n",
    "        self.payment_for_agency_services()\n",
    "        self.booking_transport_there()\n",
    "        self.hotel_room_reservation()\n",
    "        self.booking_transport_return()\n",
    "\n",
    "    def payment_for_agency_services(self) -> None:\n",
    "        # Везде используется одинаковый алгоритм, поэтому реализацию оставляем здесь\n",
    "        print(f\">>> Оплата услуг агентства [страна: {self.dest}]\")\n",
    "\n",
    "    @abc.abstractmethod\n",
    "    def booking_transport_there(self) -> None:\n",
    "        ...\n",
    "\n",
    "    @abc.abstractmethod\n",
    "    def hotel_room_reservation(self) -> None:\n",
    "        ...\n",
    "\n",
    "    @abc.abstractmethod\n",
    "    def booking_transport_return(self) -> None:\n",
    "        ...\n",
    "\n",
    "\n",
    "class TravelPackageToChina(AbsTravelPackage):\n",
    "    def booking_transport_there(self) -> None:\n",
    "        print(\">>> Бронирование путевки в Пекин из России\")\n",
    "\n",
    "    def hotel_room_reservation(self) -> None:\n",
    "        print(\">>> Бронирование гостиницы в Пекине\")\n",
    "\n",
    "    def booking_transport_return(self) -> None:\n",
    "        print(\">>> Бронирование путевки в Россию из Пекина\")\n",
    "\n",
    "\n",
    "class TravelPackageToItaly(AbsTravelPackage):\n",
    "    def booking_transport_there(self) -> None:\n",
    "        print(\">>> Бронирование путевки в Италию из России\")\n",
    "\n",
    "    def hotel_room_reservation(self) -> None:\n",
    "        print(\">>> Бронирование гостиницы в Италии\")\n",
    "\n",
    "    def booking_transport_return(self) -> None:\n",
    "        print(\">>> Бронирование путевки в Россию из Италии\")"
   ]
  },
  {
   "cell_type": "code",
   "execution_count": 12,
   "metadata": {},
   "outputs": [
    {
     "name": "stdout",
     "output_type": "stream",
     "text": [
      "Клиент выбрал путевку в Китай, производил операции:\n",
      ">>> Оплата услуг агентства [страна: Китай]\n",
      ">>> Бронирование путевки в Пекин из России\n",
      ">>> Бронирование гостиницы в Пекине\n",
      ">>> Бронирование путевки в Россию из Пекина\n",
      "\n",
      "Клиент выбрал путевку в Италию, производил операции:\n",
      ">>> Оплата услуг агентства [страна: Италия]\n",
      ">>> Бронирование путевки в Италию из России\n",
      ">>> Бронирование гостиницы в Италии\n",
      ">>> Бронирование путевки в Россию из Италии\n"
     ]
    }
   ],
   "source": [
    "travel = TravelPackageToChina(\"Китай\")\n",
    "print(\"Клиент выбрал путевку в Китай, производил операции:\")\n",
    "travel.booking_all()\n",
    "\n",
    "print()\n",
    "travel = TravelPackageToItaly(\"Италия\")\n",
    "print(\"Клиент выбрал путевку в Италию, производил операции:\")\n",
    "travel.booking_all()"
   ]
  }
 ],
 "metadata": {
  "kernelspec": {
   "display_name": "dev",
   "language": "python",
   "name": "python3"
  },
  "language_info": {
   "codemirror_mode": {
    "name": "ipython",
    "version": 3
   },
   "file_extension": ".py",
   "mimetype": "text/x-python",
   "name": "python",
   "nbconvert_exporter": "python",
   "pygments_lexer": "ipython3",
   "version": "3.10.9"
  }
 },
 "nbformat": 4,
 "nbformat_minor": 2
}
