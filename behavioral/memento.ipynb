{
 "cells": [
  {
   "cell_type": "markdown",
   "metadata": {},
   "source": [
    "# Снимок (memento)\n",
    "\n",
    "Снимок — это поведенческий паттерн проектирования, который позволяет сохранять и восстанавливать прошлые состояния объектов, не раскрывая подробностей их реализации.\n"
   ]
  },
  {
   "cell_type": "markdown",
   "metadata": {},
   "source": [
    "## Пример\n",
    "\n",
    "Написав векторный редактор, понадобилось добавить в него команду отмены. При выполнении которой, нужно восстановить предыдущее сохраненное состояние холста.\n"
   ]
  },
  {
   "cell_type": "code",
   "execution_count": 27,
   "metadata": {},
   "outputs": [],
   "source": [
    "from pickle import dumps, loads\n",
    "from typing import Any, List\n",
    "from dataclasses import dataclass\n",
    "\n",
    "\n",
    "class Memento:\n",
    "    \"\"\"\n",
    "    Класс позволяет сохранять состояние переданного в методе объекта.\n",
    "    \"\"\"\n",
    "\n",
    "    payload: Any\n",
    "\n",
    "    def __init__(self, state: Any) -> None:\n",
    "        # Сохраняем переданное состояние\n",
    "        self.payload = dumps(state)\n",
    "\n",
    "    def get_state(self) -> Any:\n",
    "        # Возвращаем сохраненное состояние\n",
    "        return loads(self.payload)\n",
    "\n",
    "\n",
    "@dataclass\n",
    "class CanvasState:\n",
    "    \"\"\"\n",
    "    Используется в качестве примера состояния холста рисования\n",
    "    \"\"\"\n",
    "\n",
    "    background_color: str\n",
    "    figures: List[str]\n",
    "\n",
    "\n",
    "class PaintCanvas:\n",
    "    \"\"\"\n",
    "    Реализует рисование объектов на холсте\n",
    "    \"\"\"\n",
    "\n",
    "    def __init__(self) -> None:\n",
    "        self.clean_canvas()\n",
    "\n",
    "    def clean_canvas(self) -> None:\n",
    "        self.canvas = CanvasState(background_color=\"white\", figures=[])\n",
    "\n",
    "    def paint_rectangle(self) -> None:\n",
    "        self.canvas.figures += [\"rectangle\"]\n",
    "\n",
    "    def paint_circle(self) -> None:\n",
    "        self.canvas.figures += [\"circle\"]\n",
    "\n",
    "    def draw(self) -> None:\n",
    "        print(\">>>\", self.canvas)\n",
    "\n",
    "    def save_state(self) -> Memento:\n",
    "        return Memento(self.canvas)\n",
    "\n",
    "    def restore_state(self, memento: Memento) -> None:\n",
    "        self.canvas = memento.get_state()"
   ]
  },
  {
   "cell_type": "code",
   "execution_count": 29,
   "metadata": {},
   "outputs": [
    {
     "name": "stdout",
     "output_type": "stream",
     "text": [
      "Добавляем круг на холст\n",
      "После добавления круга, он должен отобразиться на экране\n",
      ">>> CanvasState(background_color='white', figures=['circle'])\n",
      "\n",
      "Сохраняем состояние холста\n",
      "\n",
      "Очищаем холст\n",
      "Очистили, холст должен быть пуст\n",
      ">>> CanvasState(background_color='white', figures=[])\n",
      "\n",
      "Восстанавливаем состояние холста до очистки\n",
      "Мы снова должны увидеть круг\n",
      ">>> CanvasState(background_color='white', figures=['circle'])\n"
     ]
    }
   ],
   "source": [
    "paint = PaintCanvas()\n",
    "\n",
    "print(\"Добавляем круг на холст\")\n",
    "paint.paint_circle()\n",
    "print(\"После добавления круга, он должен отобразиться на экране\")\n",
    "paint.draw()\n",
    "print()\n",
    "\n",
    "print(\"Сохраняем состояние холста\")\n",
    "memento = paint.save_state()\n",
    "print()\n",
    "\n",
    "print(\"Очищаем холст\")\n",
    "paint.clean_canvas()\n",
    "print(\"Очистили, холст должен быть пуст\")\n",
    "paint.draw()\n",
    "print()\n",
    "\n",
    "print(\"Восстанавливаем состояние холста до очистки\")\n",
    "paint.restore_state(memento)\n",
    "print(\"Мы снова должны увидеть круг\")\n",
    "paint.draw()"
   ]
  }
 ],
 "metadata": {
  "kernelspec": {
   "display_name": "dev",
   "language": "python",
   "name": "python3"
  },
  "language_info": {
   "codemirror_mode": {
    "name": "ipython",
    "version": 3
   },
   "file_extension": ".py",
   "mimetype": "text/x-python",
   "name": "python",
   "nbconvert_exporter": "python",
   "pygments_lexer": "ipython3",
   "version": "3.10.9"
  }
 },
 "nbformat": 4,
 "nbformat_minor": 2
}
