{
 "cells": [
  {
   "cell_type": "markdown",
   "metadata": {},
   "source": [
    "# Наблюдатель (observer)\n",
    "\n",
    "Наблюдатель — это поведенческий паттерн проектирования, который создаёт механизм подписки, позволяющий одним объектам следить и реагировать на события, происходящие в других объектах.\n"
   ]
  },
  {
   "cell_type": "markdown",
   "metadata": {},
   "source": [
    "## Пример\n",
    "\n",
    "Вы участвуете в реализации почтового сервера. Требуется реализовать pushup-уведомление пользователю для двух событий: при поступлении нового персонального письма, при упоминании в рассылке. Эти два типа уведомлений следует обрабатывать по-разному.\n"
   ]
  },
  {
   "cell_type": "code",
   "execution_count": 22,
   "metadata": {},
   "outputs": [],
   "source": [
    "from __future__ import annotations\n",
    "import abc\n",
    "from typing import Set\n",
    "from random import randint\n",
    "\n",
    "\n",
    "class AbsObserver:\n",
    "    @abc.abstractmethod\n",
    "    def update(self, subject_item: AbsSubject) -> None:\n",
    "        ...\n",
    "\n",
    "\n",
    "class AbsSubject(abc.ABC):\n",
    "    observers: Set[AbsObserver]\n",
    "\n",
    "    def __init__(self) -> None:\n",
    "        self.observers = set()\n",
    "\n",
    "    def attach(self, observer: AbsObserver) -> None:\n",
    "        self.observers |= {observer}\n",
    "\n",
    "    def detach(self, observer: AbsObserver) -> None:\n",
    "        self.observers -= {observer}\n",
    "\n",
    "    def notify(self) -> None:\n",
    "        for observer in self.observers:\n",
    "            observer.update(self)\n",
    "\n",
    "\n",
    "class EmailManager(AbsSubject):\n",
    "    def __init__(self) -> None:\n",
    "        super().__init__()\n",
    "        self._received_messages = 0\n",
    "        self._mentions_in_newsletters = 0\n",
    "\n",
    "    @property\n",
    "    def received_messages(self) -> int:\n",
    "        return self._received_messages\n",
    "\n",
    "    @property\n",
    "    def mentions_in_newsletters(self) -> int:\n",
    "        return self._mentions_in_newsletters\n",
    "\n",
    "    def synchronize_changes(self) -> None:\n",
    "        \"\"\"\n",
    "        В этом метода происходит синхронизация (получение) изменений с email-сервера.\n",
    "        \"\"\"\n",
    "\n",
    "        some_changes = randint(0, 1)\n",
    "        if not some_changes:\n",
    "            print(\"Нет никаких обновлений на почтовом сервере\")\n",
    "            print()\n",
    "            return\n",
    "\n",
    "        self._received_messages += randint(1, 10)\n",
    "        self._mentions_in_newsletters += randint(1, 5)\n",
    "        self.notify()\n",
    "\n",
    "\n",
    "class OnReceivedNotifier(AbsObserver):\n",
    "    def update(self, subject_item: EmailManager) -> None:\n",
    "        val = subject_item.received_messages\n",
    "        print(\"[ВСПЛЫВАЮЩЕЕ УВЕДОМЛЕНИЕ СВЕРХУ]\")\n",
    "        print(f\"Вам пришло новое письмо. Всего: {val}\")\n",
    "        print()\n",
    "\n",
    "\n",
    "class OnMentionedNotifier(AbsObserver):\n",
    "    def update(self, subject_item: EmailManager) -> None:\n",
    "        val = subject_item.mentions_in_newsletters\n",
    "        print(\"[ВСПЛЫВАЮЩЕЕ УВЕДОМЛЕНИЕ СНИЗУ]\")\n",
    "        print(f\"Вас упомянули в рассылке. Всего: {val}\")\n",
    "        print()"
   ]
  },
  {
   "cell_type": "code",
   "execution_count": 33,
   "metadata": {},
   "outputs": [
    {
     "name": "stdout",
     "output_type": "stream",
     "text": [
      "Нет никаких обновлений на почтовом сервере\n",
      "\n",
      "[ВСПЛЫВАЮЩЕЕ УВЕДОМЛЕНИЕ СВЕРХУ]\n",
      "Вам пришло новое письмо. Всего: 9\n",
      "\n",
      "[ВСПЛЫВАЮЩЕЕ УВЕДОМЛЕНИЕ СНИЗУ]\n",
      "Вас упомянули в рассылке. Всего: 2\n",
      "\n"
     ]
    }
   ],
   "source": [
    "email_manager = EmailManager()\n",
    "notifier_received = OnReceivedNotifier()\n",
    "email_manager.attach(notifier_received)\n",
    "notifier_mentioned = OnMentionedNotifier()\n",
    "email_manager.attach(notifier_mentioned)\n",
    "\n",
    "# Вероятность, что письмо придет 0.5, т. ч. вызываем метод `synchronize_changes` несколько раз\n",
    "email_manager.synchronize_changes()\n",
    "email_manager.synchronize_changes()"
   ]
  }
 ],
 "metadata": {
  "kernelspec": {
   "display_name": "dev",
   "language": "python",
   "name": "python3"
  },
  "language_info": {
   "codemirror_mode": {
    "name": "ipython",
    "version": 3
   },
   "file_extension": ".py",
   "mimetype": "text/x-python",
   "name": "python",
   "nbconvert_exporter": "python",
   "pygments_lexer": "ipython3",
   "version": "3.10.9"
  }
 },
 "nbformat": 4,
 "nbformat_minor": 2
}
