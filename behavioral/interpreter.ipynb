{
 "cells": [
  {
   "cell_type": "markdown",
   "metadata": {},
   "source": [
    "# Интерпретатор (Interpreter)\n",
    "\n",
    "Интерпретатор — это поведенческий паттерн проектирования, который определяет представление грамматики для заданного языка и интерпретатор предложений этого языка. Как правило, данный шаблон проектирования применяется для часто повторяющихся операций."
   ]
  },
  {
   "cell_type": "markdown",
   "metadata": {},
   "source": [
    "## Пример\n",
    "\n",
    "Требуется реализовать калькулятор, который выполняет простейшие арифметические операции на целыми числами. Калькулятор на вход принимает выражение (из нескольких операций), а вычисления производит при нажатии на \"рассчитать\"."
   ]
  },
  {
   "cell_type": "code",
   "execution_count": 12,
   "metadata": {},
   "outputs": [],
   "source": [
    "import abc\n",
    "\n",
    "\n",
    "class AbsExpression(abc.ABC):\n",
    "    \"\"\"\n",
    "    Все терминальные и нетерминальные выражения реализуют метод `interpret`\n",
    "    \"\"\"\n",
    "\n",
    "    @abc.abstractmethod\n",
    "    def interpret(self) -> int:\n",
    "        \"\"\"\n",
    "        Вычисляет выражение (в примере работаем с целыми числами)\n",
    "        \"\"\"\n",
    "        ...\n",
    "\n",
    "\n",
    "class NumberExpr(AbsExpression):\n",
    "    def __init__(self, value: int) -> None:\n",
    "        self.value = value\n",
    "\n",
    "    def interpret(self) -> int:\n",
    "        # Терминальное выражение т. к. нет вызова других выражений (т. е. это лист в дереве)\n",
    "        return self.value\n",
    "\n",
    "    def __repr__(self) -> str:\n",
    "        return str(self.value)\n",
    "\n",
    "\n",
    "class AddExpr(AbsExpression):\n",
    "    def __init__(self, left: AbsExpression, right: AbsExpression) -> None:\n",
    "        self.left = left\n",
    "        self.right = right\n",
    "\n",
    "    def interpret(self) -> int:\n",
    "        # Нетерминальное выражение т. к. вызывает другие выражения\n",
    "        return self.left.interpret() + self.right.interpret()\n",
    "\n",
    "    def __repr__(self) -> str:\n",
    "        return f\"({self.left} + {self.right})\"\n",
    "\n",
    "\n",
    "class SubtractExpr(AbsExpression):\n",
    "    def __init__(self, left: AbsExpression, right: AbsExpression) -> None:\n",
    "        self.left = left\n",
    "        self.right = right\n",
    "\n",
    "    def interpret(self) -> int:\n",
    "        return self.left.interpret() - self.right.interpret()\n",
    "\n",
    "    def __repr__(self) -> str:\n",
    "        return f\"({self.left} - {self.right})\""
   ]
  },
  {
   "cell_type": "code",
   "execution_count": 13,
   "metadata": {},
   "outputs": [
    {
     "name": "stdout",
     "output_type": "stream",
     "text": [
      "Исходное выражение: 5 + 4 - 3 + 7 - 2\n",
      "Представление выражения в виде AST: ((((5 + 4) - 3) + 7) - 2)\n",
      "Результат выполнения: 11\n"
     ]
    }
   ],
   "source": [
    "sentence = \"5 + 4 - 3 + 7 - 2\"\n",
    "print(\"Исходное выражение:\", sentence)\n",
    "\n",
    "# Вручную строим абстрактное синтаксическое дерево (AST)\n",
    "root_expression = SubtractExpr(\n",
    "    AddExpr(\n",
    "        SubtractExpr(\n",
    "            AddExpr(\n",
    "                NumberExpr(5),\n",
    "                NumberExpr(4),\n",
    "            ),\n",
    "            NumberExpr(3),\n",
    "        ),\n",
    "        NumberExpr(7),\n",
    "    ),\n",
    "    NumberExpr(2),\n",
    ")\n",
    "\n",
    "print(\"Представление выражения в виде AST:\", root_expression)\n",
    "\n",
    "print(\"Результат выполнения:\", root_expression.interpret())"
   ]
  }
 ],
 "metadata": {
  "kernelspec": {
   "display_name": "dev",
   "language": "python",
   "name": "python3"
  },
  "language_info": {
   "codemirror_mode": {
    "name": "ipython",
    "version": 3
   },
   "file_extension": ".py",
   "mimetype": "text/x-python",
   "name": "python",
   "nbconvert_exporter": "python",
   "pygments_lexer": "ipython3",
   "version": "3.10.9"
  }
 },
 "nbformat": 4,
 "nbformat_minor": 2
}
