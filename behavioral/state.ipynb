{
 "cells": [
  {
   "cell_type": "markdown",
   "metadata": {},
   "source": [
    "# Состояние (state)\n",
    "\n",
    "Состояние — это поведенческий паттерн проектирования, который позволяет объектам менять поведение в зависимости от своего состояния. Извне создаётся впечатление, что изменился класс объекта.\n"
   ]
  },
  {
   "cell_type": "markdown",
   "metadata": {},
   "source": [
    "## Пример\n",
    "\n",
    "Вы пишите аналог Jira (систему отслеживания ошибок). В вашей системе, любая созданная заявка должна пройти 3 стадии: новая, реализовывается, завершено. В каждом из этих статусов, активно отдельное поле для комментариев. Требуется реализовать описанный функционал.\n"
   ]
  },
  {
   "cell_type": "code",
   "execution_count": 9,
   "metadata": {},
   "outputs": [],
   "source": [
    "from __future__ import annotations\n",
    "import abc\n",
    "from typing import Type\n",
    "\n",
    "\n",
    "class Context:\n",
    "    \"\"\"\n",
    "    Контекст позволяет хранить объект через который выполняются операции, давая возможность заменить его.\n",
    "    \"\"\"\n",
    "\n",
    "    def __init__(self, state_type: Type[AbsState]) -> None:\n",
    "        self.transition_to(state_type)\n",
    "\n",
    "    def transition_to(self, state_type: Type[AbsState]) -> None:\n",
    "        \"\"\"\n",
    "        Метод позволяет менять текущее состояние.\n",
    "        \"\"\"\n",
    "\n",
    "        print(f\">>> Контекст: Изменен на {state_type.__name__}\")\n",
    "        self._state = state_type(self)\n",
    "\n",
    "    \"\"\"\n",
    "    Взаимодействия с заявкой происходит через контекст.\n",
    "    \"\"\"\n",
    "\n",
    "    def change_to_new(self) -> None:\n",
    "        self._state.change_to_new()\n",
    "\n",
    "    def change_to_in_process(self) -> None:\n",
    "        self._state.change_to_in_process()\n",
    "\n",
    "    def change_to_final(self) -> None:\n",
    "        self._state.change_to_final()\n",
    "\n",
    "\n",
    "class AbsState(abc.ABC):\n",
    "    def __init__(self, context: Context) -> None:\n",
    "        # Храним контекст, для перехода между состояниями\n",
    "        self._context = context\n",
    "\n",
    "    @abc.abstractmethod\n",
    "    def change_to_new(self) -> None:\n",
    "        ...\n",
    "\n",
    "    @abc.abstractmethod\n",
    "    def change_to_in_process(self) -> None:\n",
    "        ...\n",
    "\n",
    "    @abc.abstractmethod\n",
    "    def change_to_final(self) -> None:\n",
    "        ...\n",
    "\n",
    "\n",
    "class FinalRequestState(AbsState):\n",
    "    def change_to_new(self) -> None:\n",
    "        print(\"Заявка уже в работе, запрещено переводить в предыдущее состояние\")\n",
    "\n",
    "    def change_to_in_process(self) -> None:\n",
    "        print(\"Заявка уже в работе, запрещено переводить в предыдущее состояние\")\n",
    "\n",
    "    def change_to_final(self) -> None:\n",
    "        print(\"Заявка уже в завершена\")\n",
    "\n",
    "\n",
    "class InProcessRequestState(AbsState):\n",
    "    def change_to_new(self) -> None:\n",
    "        print(\"Заявка уже в работе, запрещено переводить в предыдущее состояние\")\n",
    "\n",
    "    def change_to_in_process(self) -> None:\n",
    "        print(\"Заявка уже в работе\")\n",
    "\n",
    "    def change_to_final(self) -> None:\n",
    "        # Если бы мы не хранили контекст, то не смогли бы поменять его состояние\n",
    "        self._context.transition_to(FinalRequestState)\n",
    "        print('Заявка переведена в статус \"Завершено\"')\n",
    "\n",
    "\n",
    "class NewRequestState(AbsState):\n",
    "    def change_to_new(self) -> None:\n",
    "        print(\"Заявка уже открыта\")\n",
    "\n",
    "    def change_to_in_process(self) -> None:\n",
    "        self._context.transition_to(InProcessRequestState)\n",
    "        print('Заявка переведена в статус \"Реализовывается\"')\n",
    "\n",
    "    def change_to_final(self) -> None:\n",
    "        print('Запрещено закрывать заявку миную статус \"Реализовывается\"')"
   ]
  },
  {
   "cell_type": "code",
   "execution_count": 10,
   "metadata": {},
   "outputs": [
    {
     "name": "stdout",
     "output_type": "stream",
     "text": [
      ">>> Контекст: Изменен на NewRequestState\n",
      "Заявка уже открыта\n",
      ">>> Контекст: Изменен на InProcessRequestState\n",
      "Заявка переведена в статус \"Реализовывается\"\n",
      ">>> Контекст: Изменен на FinalRequestState\n",
      "Заявка переведена в статус \"Завершено\"\n",
      "Заявка уже в завершена\n"
     ]
    }
   ],
   "source": [
    "context = Context(NewRequestState)\n",
    "context.change_to_new()\n",
    "context.change_to_in_process()\n",
    "context.change_to_final()\n",
    "context.change_to_final()"
   ]
  }
 ],
 "metadata": {
  "kernelspec": {
   "display_name": "dev",
   "language": "python",
   "name": "python3"
  },
  "language_info": {
   "codemirror_mode": {
    "name": "ipython",
    "version": 3
   },
   "file_extension": ".py",
   "mimetype": "text/x-python",
   "name": "python",
   "nbconvert_exporter": "python",
   "pygments_lexer": "ipython3",
   "version": "3.10.9"
  }
 },
 "nbformat": 4,
 "nbformat_minor": 2
}
