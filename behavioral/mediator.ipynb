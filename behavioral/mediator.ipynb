{
 "cells": [
  {
   "cell_type": "markdown",
   "metadata": {},
   "source": [
    "# Посредник (mediator)\n",
    "\n",
    "Посредник — это поведенческий паттерн проектирования, который позволяет уменьшить связанность множества классов между собой, благодаря перемещению этих связей в один класс-посредник.\n"
   ]
  },
  {
   "cell_type": "markdown",
   "metadata": {},
   "source": [
    "## Пример\n",
    "\n",
    "Автоматизируем аэродром. Требуется посадить исправный самолет на свободную посадочную полосу в светлое время суток. Классы самолета, посадочной полосы и времени суток, — уже были реализованы другой командой.\n"
   ]
  },
  {
   "cell_type": "code",
   "execution_count": 20,
   "metadata": {},
   "outputs": [],
   "source": [
    "from __future__ import annotations\n",
    "from random import choice\n",
    "import abc\n",
    "\n",
    "\n",
    "random_flag = lambda: choice((True, False))\n",
    "\n",
    "\n",
    "class BaseComponent:\n",
    "    @property\n",
    "    def mediator(self) -> AbsMediator:\n",
    "        return self._mediator\n",
    "\n",
    "    @mediator.setter\n",
    "    def mediator(self, mediator: AbsMediator) -> None:\n",
    "        self._mediator = mediator\n",
    "\n",
    "\n",
    "class Airplane(BaseComponent):\n",
    "    def __init__(self, tail_number: str) -> None:\n",
    "        self.tail_number = tail_number\n",
    "\n",
    "    def is_serviceable(self) -> bool:\n",
    "        return random_flag()\n",
    "\n",
    "    def to_land_the_plane(self) -> None:\n",
    "        \"\"\"\n",
    "        Для проверка возможности посадки идет обращение к посреднику,\n",
    "        теперь все взаимодействия между объектами будут производится через вызов `notify` У посредника.\n",
    "        \"\"\"\n",
    "        self.mediator.notify(self, \"to_land_the_plane\")\n",
    "\n",
    "\n",
    "class LandingStrip(BaseComponent):\n",
    "    def is_free(self) -> bool:\n",
    "        return random_flag()\n",
    "\n",
    "\n",
    "class TimesOfDay(BaseComponent):\n",
    "    def is_daylight_hours(self) -> bool:\n",
    "        return random_flag()\n",
    "\n",
    "\n",
    "class AbsMediator(abc.ABC):\n",
    "    @abc.abstractmethod\n",
    "    def notify(self, sender: BaseComponent, event: str) -> None:\n",
    "        ...\n",
    "\n",
    "\n",
    "class AirfieldController(AbsMediator):\n",
    "    def __init__(\n",
    "        self, component1: Airplane, component2: LandingStrip, component3: TimesOfDay\n",
    "    ) -> None:\n",
    "        self._component1 = component1\n",
    "        self._component1.mediator = self\n",
    "        self._component2 = component2\n",
    "        self._component2.mediator = self\n",
    "        self._component3 = component3\n",
    "        self._component3.mediator = self\n",
    "\n",
    "    def notify(self, sender: BaseComponent, event: str) -> None:\n",
    "        \"\"\"\n",
    "        Тут происходит логика проверка возможности посадки самолета.\n",
    "        Т. е. все взаимодействия между объектами выносятся в отдельный (этот) класс.\n",
    "        \"\"\"\n",
    "\n",
    "        if event != \"to_land_the_plane\":\n",
    "            # Условие нужно только для демонстрации того, что метод может обрабатывать разные события\n",
    "            return\n",
    "\n",
    "        print(\"Пытаемся посадить самолет:\")\n",
    "\n",
    "        is_serviceable = self._component1.is_serviceable()\n",
    "        if not is_serviceable:\n",
    "            print(\"[FAIL] Самолет неисправен, слейте топливо перед посадкой\")\n",
    "            return\n",
    "        print(\"[ОК] Самолет исправен\")\n",
    "\n",
    "        is_free = self._component2.is_free()\n",
    "        if not is_free:\n",
    "            print(\"[FAIL] Посадочная полоса занята\")\n",
    "            return\n",
    "        print(\"[ОК] Посадочная полоса свободна\")\n",
    "\n",
    "        is_daylight_hours = self._component3.is_daylight_hours()\n",
    "        if not is_daylight_hours:\n",
    "            print(\"[FAIL] Плохая видимость, нужно подключить доп. освещение\")\n",
    "            return\n",
    "        print(\"[ОК] Видимость отличная\")\n",
    "\n",
    "        print(\"[SUCCESS] Получено разрешение на посадку\")"
   ]
  },
  {
   "cell_type": "code",
   "execution_count": 27,
   "metadata": {},
   "outputs": [
    {
     "name": "stdout",
     "output_type": "stream",
     "text": [
      "Пытаемся посадить самолет:\n",
      "[ОК] Самолет исправен\n",
      "[ОК] Посадочная полоса свободна\n",
      "[FAIL] Плохая видимость, нужно подключить доп. освещение\n"
     ]
    }
   ],
   "source": [
    "c1 = Airplane(\"BT434FAS\")\n",
    "c2 = LandingStrip()\n",
    "c3 = TimesOfDay()\n",
    "mediator = AirfieldController(c1, c2, c3)\n",
    "\n",
    "# Пытаемся посадить самолет\n",
    "c1.to_land_the_plane()"
   ]
  }
 ],
 "metadata": {
  "kernelspec": {
   "display_name": "dev",
   "language": "python",
   "name": "python3"
  },
  "language_info": {
   "codemirror_mode": {
    "name": "ipython",
    "version": 3
   },
   "file_extension": ".py",
   "mimetype": "text/x-python",
   "name": "python",
   "nbconvert_exporter": "python",
   "pygments_lexer": "ipython3",
   "version": "3.10.9"
  }
 },
 "nbformat": 4,
 "nbformat_minor": 2
}
